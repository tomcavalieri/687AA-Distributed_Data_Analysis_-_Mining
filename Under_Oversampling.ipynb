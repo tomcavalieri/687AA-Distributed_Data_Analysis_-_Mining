{
 "cells": [
  {
   "cell_type": "markdown",
   "metadata": {},
   "source": [
    "# DATA PREPARATION: OVERSAMPLING AND UNDERSAMPLING \n",
    "\n",
    "Source:https://medium.com/@junwan01/oversampling-and-undersampling-with-pyspark-5dbc25cdf253"
   ]
  },
  {
   "cell_type": "code",
   "execution_count": 1,
   "metadata": {},
   "outputs": [],
   "source": [
    "from pyspark.sql import SparkSession\n",
    "from pyspark.sql.functions import col, explode, array, lit\n",
    "from pyspark.sql import SQLContext"
   ]
  },
  {
   "cell_type": "code",
   "execution_count": 2,
   "metadata": {},
   "outputs": [
    {
     "name": "stdout",
     "output_type": "stream",
     "text": [
      "root\n",
      " |-- Agency_Code: string (nullable = true)\n",
      " |-- Agency_Type: string (nullable = true)\n",
      " |-- State: string (nullable = true)\n",
      " |-- Year: integer (nullable = true)\n",
      " |-- Month: string (nullable = true)\n",
      " |-- Victim_Sex: string (nullable = true)\n",
      " |-- Victim_Race: string (nullable = true)\n",
      " |-- Victim_Ethnicity: string (nullable = true)\n",
      " |-- Perpetrator_Sex: string (nullable = true)\n",
      " |-- Perpetrator_Race: string (nullable = true)\n",
      " |-- Perpetrator_Ethnicity: string (nullable = true)\n",
      " |-- Relationship: string (nullable = true)\n",
      " |-- Weapon: string (nullable = true)\n",
      " |-- City_State: string (nullable = true)\n",
      " |-- Crime_Solved: string (nullable = true)\n",
      " |-- Victim_Age: string (nullable = true)\n",
      " |-- Perpetrator_Age: string (nullable = true)\n",
      "\n"
     ]
    }
   ],
   "source": [
    "spark = SparkSession.builder \\\n",
    "    .master(\"local\") \\\n",
    "    .appName(\"AppName\") \\\n",
    "    .getOrCreate()\n",
    "\n",
    "# importing the pre-cleaned dataset\n",
    "\n",
    "df = spark.read.csv('Homicide_clean_Discr.csv', header = True, inferSchema = True)\n",
    "df.printSchema()"
   ]
  },
  {
   "cell_type": "code",
   "execution_count": 3,
   "metadata": {},
   "outputs": [
    {
     "name": "stdout",
     "output_type": "stream",
     "text": [
      "ratio: 2.3786490016998156\n",
      "minor count: 182961\n",
      "major count: 435200\n"
     ]
    }
   ],
   "source": [
    "# counting the number of records with CrimeSolved = Yes and with CrimeSolved= No and the ratio between them\n",
    "\n",
    "major_df = df.filter(col(\"Crime_Solved\") == \"Yes\")\n",
    "minor_df = df.filter(col(\"Crime_Solved\") == \"No\")\n",
    "ratio = float(major_df.count()/minor_df.count())\n",
    "print(\"ratio: {}\".format(ratio))\n",
    "print(\"minor count: {}\".format(minor_df.count()))\n",
    "print(\"major count: {}\".format(major_df.count()))"
   ]
  },
  {
   "cell_type": "markdown",
   "metadata": {},
   "source": [
    "## UNDERSAMPLING OF THE TOTAL DATASET"
   ]
  },
  {
   "cell_type": "code",
   "execution_count": 4,
   "metadata": {},
   "outputs": [],
   "source": [
    "sampled_majority_df = major_df.sample(False, 1/ratio)\n",
    "df = sampled_majority_df.unionAll(minor_df)"
   ]
  },
  {
   "cell_type": "code",
   "execution_count": 5,
   "metadata": {},
   "outputs": [
    {
     "name": "stdout",
     "output_type": "stream",
     "text": [
      "ratio: 1\n",
      "minor count: 182961\n",
      "major count: 183386\n"
     ]
    }
   ],
   "source": [
    "# we recompute the ratio in order to check that the undersampling technique worked as intended\n",
    "\n",
    "major_df = df.filter(col(\"Crime_Solved\") == \"Yes\")\n",
    "minor_df = df.filter(col(\"Crime_Solved\") == \"No\")\n",
    "ratio = int(major_df.count()/minor_df.count())\n",
    "print(\"ratio: {}\".format(ratio))\n",
    "print(\"minor count: {}\".format(minor_df.count()))\n",
    "print(\"major count: {}\".format(major_df.count()))"
   ]
  },
  {
   "cell_type": "code",
   "execution_count": 6,
   "metadata": {},
   "outputs": [],
   "source": [
    "df.toPandas().to_csv(\"Homicide_Undersampled.csv\", index = False)"
   ]
  },
  {
   "cell_type": "markdown",
   "metadata": {},
   "source": [
    "## OVERSAMPLING OF THE STATE'S DATASETS\n",
    "### Texas"
   ]
  },
  {
   "cell_type": "code",
   "execution_count": 7,
   "metadata": {},
   "outputs": [],
   "source": [
    "# creation of a subsample including only homicides committed in Texas\n",
    "\n",
    "df = spark.read.csv('Homicide_clean_Discr.csv', header = True, inferSchema = True)\n",
    "sqlCtx = SQLContext(spark)\n",
    "df.createOrReplaceGlobalTempView(\"df\");\n",
    "df = sqlCtx.sql(\"SELECT * FROM global_temp.df WHERE State='Texas'\")"
   ]
  },
  {
   "cell_type": "code",
   "execution_count": 8,
   "metadata": {},
   "outputs": [
    {
     "name": "stdout",
     "output_type": "stream",
     "text": [
      "ratio: 3.3456127628716463\n",
      "minor count: 13790\n",
      "major count: 46136\n"
     ]
    }
   ],
   "source": [
    "# counting the number of records with CrimeSolved = Yes and with CrimeSolved= No and the ratio between them\n",
    "\n",
    "major_df = df.filter(col(\"Crime_Solved\") == \"Yes\")\n",
    "minor_df = df.filter(col(\"Crime_Solved\") == \"No\")\n",
    "ratio = float(major_df.count()/minor_df.count())\n",
    "print(\"ratio: {}\".format(ratio))\n",
    "print(\"minor count: {}\".format(minor_df.count()))\n",
    "print(\"major count: {}\".format(major_df.count()))"
   ]
  },
  {
   "cell_type": "code",
   "execution_count": 9,
   "metadata": {},
   "outputs": [
    {
     "data": {
      "text/plain": [
       "range(0, 3)"
      ]
     },
     "execution_count": 9,
     "metadata": {},
     "output_type": "execute_result"
    }
   ],
   "source": [
    "a = range(round(ratio))\n",
    "a"
   ]
  },
  {
   "cell_type": "code",
   "execution_count": 10,
   "metadata": {},
   "outputs": [],
   "source": [
    "# duplicating records belonging to the minority class\n",
    "oversampled_df = minor_df.withColumn(\"dummy\", explode(array([lit(x) for x in a]))).drop('dummy')\n",
    "\n",
    "# combining the oversampled minority class and the majority class \n",
    "df = major_df.unionAll(oversampled_df)"
   ]
  },
  {
   "cell_type": "code",
   "execution_count": 11,
   "metadata": {},
   "outputs": [
    {
     "name": "stdout",
     "output_type": "stream",
     "text": [
      "ratio: 1\n",
      "minor count: 41370\n",
      "major count: 46136\n"
     ]
    }
   ],
   "source": [
    "# we recompute the ratio in order to check that the oversampling technique worked as intended\n",
    "\n",
    "major_df = df.filter(col(\"Crime_Solved\") == \"Yes\")\n",
    "minor_df = df.filter(col(\"Crime_Solved\") == \"No\")\n",
    "ratio = int(major_df.count()/minor_df.count())\n",
    "print(\"ratio: {}\".format(ratio))\n",
    "print(\"minor count: {}\".format(minor_df.count()))\n",
    "print(\"major count: {}\".format(major_df.count()))"
   ]
  },
  {
   "cell_type": "code",
   "execution_count": 12,
   "metadata": {},
   "outputs": [],
   "source": [
    "df.toPandas().to_csv(\"Homicide_Texas.csv\", index = False)"
   ]
  },
  {
   "cell_type": "markdown",
   "metadata": {},
   "source": [
    "### California"
   ]
  },
  {
   "cell_type": "code",
   "execution_count": 13,
   "metadata": {},
   "outputs": [],
   "source": [
    "# creation of a subsample including only homicides committed in California\n",
    "\n",
    "df = spark.read.csv('Homicide_clean_Discr.csv', header = True, inferSchema = True)\n",
    "sqlCtx = SQLContext(spark)\n",
    "df.createOrReplaceGlobalTempView(\"df\");\n",
    "df = sqlCtx.sql(\"SELECT * FROM global_temp.df WHERE State='California'\")"
   ]
  },
  {
   "cell_type": "code",
   "execution_count": 14,
   "metadata": {},
   "outputs": [
    {
     "name": "stdout",
     "output_type": "stream",
     "text": [
      "ratio: 1.745169877207545\n",
      "minor count: 34937\n",
      "major count: 60971\n"
     ]
    }
   ],
   "source": [
    "# counting the number of records with CrimeSolved = Yes and with CrimeSolved= No and the ratio between them\n",
    "\n",
    "major_df = df.filter(col(\"Crime_Solved\") == \"Yes\")\n",
    "minor_df = df.filter(col(\"Crime_Solved\") == \"No\")\n",
    "ratio = float(major_df.count()/minor_df.count())\n",
    "print(\"ratio: {}\".format(ratio))\n",
    "print(\"minor count: {}\".format(minor_df.count()))\n",
    "print(\"major count: {}\".format(major_df.count()))"
   ]
  },
  {
   "cell_type": "code",
   "execution_count": 15,
   "metadata": {},
   "outputs": [
    {
     "data": {
      "text/plain": [
       "range(0, 2)"
      ]
     },
     "execution_count": 15,
     "metadata": {},
     "output_type": "execute_result"
    }
   ],
   "source": [
    "a = range(round(ratio))\n",
    "a"
   ]
  },
  {
   "cell_type": "code",
   "execution_count": 16,
   "metadata": {},
   "outputs": [],
   "source": [
    "# duplicating records belonging to the minority class\n",
    "oversampled_df = minor_df.withColumn(\"dummy\", explode(array([lit(x) for x in a]))).drop('dummy')\n",
    "\n",
    "# combining the oversampled minority class and the majority class \n",
    "df = major_df.unionAll(oversampled_df)"
   ]
  },
  {
   "cell_type": "code",
   "execution_count": 17,
   "metadata": {},
   "outputs": [
    {
     "name": "stdout",
     "output_type": "stream",
     "text": [
      "ratio: 0\n",
      "minor count: 69874\n",
      "major count: 60971\n"
     ]
    }
   ],
   "source": [
    "# we recompute the ratio in order to check that the oversampling technique worked as intended\n",
    "\n",
    "major_df = df.filter(col(\"Crime_Solved\") == \"Yes\")\n",
    "minor_df = df.filter(col(\"Crime_Solved\") == \"No\")\n",
    "ratio = int(major_df.count()/minor_df.count())\n",
    "print(\"ratio: {}\".format(ratio))\n",
    "print(\"minor count: {}\".format(minor_df.count()))\n",
    "print(\"major count: {}\".format(major_df.count()))"
   ]
  },
  {
   "cell_type": "code",
   "execution_count": 18,
   "metadata": {},
   "outputs": [],
   "source": [
    "df.toPandas().to_csv(\"Homicide_California.csv\", index = False)"
   ]
  },
  {
   "cell_type": "markdown",
   "metadata": {},
   "source": [
    "### New York\n"
   ]
  },
  {
   "cell_type": "code",
   "execution_count": 19,
   "metadata": {},
   "outputs": [],
   "source": [
    "# creation of a subsample including only homicides committed in New York\n",
    "\n",
    "df = spark.read.csv('Homicide_clean_Discr.csv', header = True, inferSchema = True)\n",
    "sqlCtx = SQLContext(spark)\n",
    "df.createOrReplaceGlobalTempView(\"df\");\n",
    "df = sqlCtx.sql(\"SELECT * FROM global_temp.df WHERE State='New York'\")"
   ]
  },
  {
   "cell_type": "code",
   "execution_count": 20,
   "metadata": {},
   "outputs": [
    {
     "name": "stdout",
     "output_type": "stream",
     "text": [
      "ratio: 1.1596588011682352\n",
      "minor count: 21571\n",
      "major count: 25015\n"
     ]
    }
   ],
   "source": [
    "# counting the number of records with CrimeSolved = Yes and with CrimeSolved= No and the ratio between them\n",
    "\n",
    "major_df = df.filter(col(\"Crime_Solved\") == \"Yes\")\n",
    "minor_df = df.filter(col(\"Crime_Solved\") == \"No\")\n",
    "ratio = float(major_df.count()/minor_df.count())\n",
    "print(\"ratio: {}\".format(ratio))\n",
    "print(\"minor count: {}\".format(minor_df.count()))\n",
    "print(\"major count: {}\".format(major_df.count()))"
   ]
  },
  {
   "cell_type": "code",
   "execution_count": 21,
   "metadata": {},
   "outputs": [],
   "source": [
    "# this dataset revealed to be already balanced and therefore didn't need to be oversampled\n",
    "df.toPandas().to_csv(\"Homicide_NY.csv\", index = False)"
   ]
  }
 ],
 "metadata": {
  "kernelspec": {
   "display_name": "Python 3",
   "language": "python",
   "name": "python3"
  },
  "language_info": {
   "codemirror_mode": {
    "name": "ipython",
    "version": 3
   },
   "file_extension": ".py",
   "mimetype": "text/x-python",
   "name": "python",
   "nbconvert_exporter": "python",
   "pygments_lexer": "ipython3",
   "version": "3.7.7"
  }
 },
 "nbformat": 4,
 "nbformat_minor": 4
}
