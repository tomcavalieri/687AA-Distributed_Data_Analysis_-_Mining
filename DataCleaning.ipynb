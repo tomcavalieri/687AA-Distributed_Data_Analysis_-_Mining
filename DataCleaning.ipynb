{
 "cells": [
  {
   "cell_type": "code",
   "execution_count": 1,
   "metadata": {},
   "outputs": [],
   "source": [
    "from pyspark import SparkContext\n",
    "sc = SparkContext(appName=\"MY-APP-NAME\", master=\"local[*]\")\n",
    "\n",
    "from pyspark.sql import SQLContext\n",
    "sqlCtx = SQLContext(sc)\n",
    "\n",
    "from pyspark.sql.functions import *\n",
    "import pandas as pd\n",
    "from pyspark.ml.feature import Bucketizer\n",
    "from pyspark.sql.types import *"
   ]
  },
  {
   "cell_type": "code",
   "execution_count": 2,
   "metadata": {},
   "outputs": [],
   "source": [
    "df = sqlCtx.read.load(\"database_Homicide.csv\",\n",
    "                     format=\"csv\", sep=\",\", inferSchema=\"true\", header=\"true\")"
   ]
  },
  {
   "cell_type": "markdown",
   "metadata": {},
   "source": [
    "### Columns analysis"
   ]
  },
  {
   "cell_type": "code",
   "execution_count": 3,
   "metadata": {},
   "outputs": [],
   "source": [
    "# Add column City_State\n",
    "df=df.withColumn('City_State', concat(col(\"City\"),lit(\",\"),col(\"State\")))"
   ]
  },
  {
   "cell_type": "code",
   "execution_count": 4,
   "metadata": {},
   "outputs": [],
   "source": [
    "# Cast of Perpetrator_Age as integer\n",
    "df=df.withColumn('Perpetrator_Age', col('Perpetrator Age').cast(IntegerType()))\n",
    "df=df.drop('Perpetrator Age')"
   ]
  },
  {
   "cell_type": "code",
   "execution_count": 5,
   "metadata": {},
   "outputs": [],
   "source": [
    "df=df.withColumn('Crime_Solved', col('Crime Solved'))"
   ]
  },
  {
   "cell_type": "code",
   "execution_count": 6,
   "metadata": {},
   "outputs": [
    {
     "data": {
      "text/plain": [
       "[('Agency Code', 'string'),\n",
       " ('Agency Type', 'string'),\n",
       " ('State', 'string'),\n",
       " ('Year', 'int'),\n",
       " ('Month', 'string'),\n",
       " ('Victim Sex', 'string'),\n",
       " ('Victim Age', 'int'),\n",
       " ('Victim Race', 'string'),\n",
       " ('Victim Ethnicity', 'string'),\n",
       " ('Perpetrator Sex', 'string'),\n",
       " ('Perpetrator Race', 'string'),\n",
       " ('Perpetrator Ethnicity', 'string'),\n",
       " ('Relationship', 'string'),\n",
       " ('Weapon', 'string'),\n",
       " ('City_State', 'string'),\n",
       " ('Perpetrator_Age', 'int'),\n",
       " ('Crime_Solved', 'string')]"
      ]
     },
     "execution_count": 6,
     "metadata": {},
     "output_type": "execute_result"
    }
   ],
   "source": [
    "# Drop columns\n",
    "df=df.drop('Record ID','Incident','Victim Count','Perpetrator Count','Agency Name','City','Crime Type','Crime Solved','Record Source')\n",
    "df.dtypes"
   ]
  },
  {
   "cell_type": "code",
   "execution_count": 7,
   "metadata": {},
   "outputs": [],
   "source": [
    "# Renamed columns\n",
    "df = df.withColumnRenamed(\"Agency Code\", \"Agency_Code\")\\\n",
    ".withColumnRenamed(\"Agency Type\", \"Agency_Type\")\\\n",
    ".withColumnRenamed(\"Victim Age\", \"Victim_Age\")\\\n",
    ".withColumnRenamed(\"Victim Sex\", \"Victim_Sex\")\\\n",
    ".withColumnRenamed(\"Victim Race\", \"Victim_Race\")\\\n",
    ".withColumnRenamed(\"Victim Ethnicity\", \"Victim_Ethnicity\")\\\n",
    ".withColumnRenamed(\"Perpetrator Sex\", \"Perpetrator_Sex\")\\\n",
    ".withColumnRenamed(\"Perpetrator Race\", \"Perpetrator_Race\")\\\n",
    ".withColumnRenamed(\"Perpetrator Ethnicity\", \"Perpetrator_Ethnicity\")\n"
   ]
  },
  {
   "cell_type": "code",
   "execution_count": 8,
   "metadata": {},
   "outputs": [
    {
     "name": "stdout",
     "output_type": "stream",
     "text": [
      "The number of row and columns:  638454 , 17\n"
     ]
    }
   ],
   "source": [
    "print(\"The number of rows and columns: \",df.count(),\",\",len(df.columns))"
   ]
  },
  {
   "cell_type": "code",
   "execution_count": 9,
   "metadata": {},
   "outputs": [
    {
     "data": {
      "text/html": [
       "<div>\n",
       "<style scoped>\n",
       "    .dataframe tbody tr th:only-of-type {\n",
       "        vertical-align: middle;\n",
       "    }\n",
       "\n",
       "    .dataframe tbody tr th {\n",
       "        vertical-align: top;\n",
       "    }\n",
       "\n",
       "    .dataframe thead th {\n",
       "        text-align: right;\n",
       "    }\n",
       "</style>\n",
       "<table border=\"1\" class=\"dataframe\">\n",
       "  <thead>\n",
       "    <tr style=\"text-align: right;\">\n",
       "      <th></th>\n",
       "      <th>Agency_Code</th>\n",
       "      <th>Agency_Type</th>\n",
       "      <th>State</th>\n",
       "      <th>Year</th>\n",
       "      <th>Month</th>\n",
       "      <th>Victim_Sex</th>\n",
       "      <th>Victim_Age</th>\n",
       "      <th>Victim_Race</th>\n",
       "      <th>Victim_Ethnicity</th>\n",
       "      <th>Perpetrator_Sex</th>\n",
       "      <th>Perpetrator_Race</th>\n",
       "      <th>Perpetrator_Ethnicity</th>\n",
       "      <th>Relationship</th>\n",
       "      <th>Weapon</th>\n",
       "      <th>City_State</th>\n",
       "      <th>Perpetrator_Age</th>\n",
       "      <th>Crime_Solved</th>\n",
       "    </tr>\n",
       "  </thead>\n",
       "  <tbody>\n",
       "    <tr>\n",
       "      <th>0</th>\n",
       "      <td>AK00101</td>\n",
       "      <td>Municipal Police</td>\n",
       "      <td>Alaska</td>\n",
       "      <td>1980</td>\n",
       "      <td>January</td>\n",
       "      <td>Male</td>\n",
       "      <td>14</td>\n",
       "      <td>Native American/Alaska Native</td>\n",
       "      <td>Unknown</td>\n",
       "      <td>Male</td>\n",
       "      <td>Native American/Alaska Native</td>\n",
       "      <td>Unknown</td>\n",
       "      <td>Acquaintance</td>\n",
       "      <td>Blunt Object</td>\n",
       "      <td>Anchorage,Alaska</td>\n",
       "      <td>15.0</td>\n",
       "      <td>Yes</td>\n",
       "    </tr>\n",
       "    <tr>\n",
       "      <th>1</th>\n",
       "      <td>AK00101</td>\n",
       "      <td>Municipal Police</td>\n",
       "      <td>Alaska</td>\n",
       "      <td>1980</td>\n",
       "      <td>March</td>\n",
       "      <td>Male</td>\n",
       "      <td>43</td>\n",
       "      <td>White</td>\n",
       "      <td>Unknown</td>\n",
       "      <td>Male</td>\n",
       "      <td>White</td>\n",
       "      <td>Unknown</td>\n",
       "      <td>Acquaintance</td>\n",
       "      <td>Strangulation</td>\n",
       "      <td>Anchorage,Alaska</td>\n",
       "      <td>42.0</td>\n",
       "      <td>Yes</td>\n",
       "    </tr>\n",
       "    <tr>\n",
       "      <th>2</th>\n",
       "      <td>AK00101</td>\n",
       "      <td>Municipal Police</td>\n",
       "      <td>Alaska</td>\n",
       "      <td>1980</td>\n",
       "      <td>March</td>\n",
       "      <td>Female</td>\n",
       "      <td>30</td>\n",
       "      <td>Native American/Alaska Native</td>\n",
       "      <td>Unknown</td>\n",
       "      <td>Unknown</td>\n",
       "      <td>Unknown</td>\n",
       "      <td>Unknown</td>\n",
       "      <td>Unknown</td>\n",
       "      <td>Unknown</td>\n",
       "      <td>Anchorage,Alaska</td>\n",
       "      <td>0.0</td>\n",
       "      <td>No</td>\n",
       "    </tr>\n",
       "    <tr>\n",
       "      <th>3</th>\n",
       "      <td>AK00101</td>\n",
       "      <td>Municipal Police</td>\n",
       "      <td>Alaska</td>\n",
       "      <td>1980</td>\n",
       "      <td>April</td>\n",
       "      <td>Male</td>\n",
       "      <td>43</td>\n",
       "      <td>White</td>\n",
       "      <td>Unknown</td>\n",
       "      <td>Male</td>\n",
       "      <td>White</td>\n",
       "      <td>Unknown</td>\n",
       "      <td>Acquaintance</td>\n",
       "      <td>Strangulation</td>\n",
       "      <td>Anchorage,Alaska</td>\n",
       "      <td>42.0</td>\n",
       "      <td>Yes</td>\n",
       "    </tr>\n",
       "    <tr>\n",
       "      <th>4</th>\n",
       "      <td>AK00101</td>\n",
       "      <td>Municipal Police</td>\n",
       "      <td>Alaska</td>\n",
       "      <td>1980</td>\n",
       "      <td>April</td>\n",
       "      <td>Female</td>\n",
       "      <td>30</td>\n",
       "      <td>Native American/Alaska Native</td>\n",
       "      <td>Unknown</td>\n",
       "      <td>Unknown</td>\n",
       "      <td>Unknown</td>\n",
       "      <td>Unknown</td>\n",
       "      <td>Unknown</td>\n",
       "      <td>Unknown</td>\n",
       "      <td>Anchorage,Alaska</td>\n",
       "      <td>0.0</td>\n",
       "      <td>No</td>\n",
       "    </tr>\n",
       "    <tr>\n",
       "      <th>...</th>\n",
       "      <td>...</td>\n",
       "      <td>...</td>\n",
       "      <td>...</td>\n",
       "      <td>...</td>\n",
       "      <td>...</td>\n",
       "      <td>...</td>\n",
       "      <td>...</td>\n",
       "      <td>...</td>\n",
       "      <td>...</td>\n",
       "      <td>...</td>\n",
       "      <td>...</td>\n",
       "      <td>...</td>\n",
       "      <td>...</td>\n",
       "      <td>...</td>\n",
       "      <td>...</td>\n",
       "      <td>...</td>\n",
       "      <td>...</td>\n",
       "    </tr>\n",
       "    <tr>\n",
       "      <th>638449</th>\n",
       "      <td>WY01500</td>\n",
       "      <td>Sheriff</td>\n",
       "      <td>Wyoming</td>\n",
       "      <td>2014</td>\n",
       "      <td>January</td>\n",
       "      <td>Male</td>\n",
       "      <td>30</td>\n",
       "      <td>White</td>\n",
       "      <td>Hispanic</td>\n",
       "      <td>Unknown</td>\n",
       "      <td>Unknown</td>\n",
       "      <td>Unknown</td>\n",
       "      <td>Unknown</td>\n",
       "      <td>Handgun</td>\n",
       "      <td>Park,Wyoming</td>\n",
       "      <td>0.0</td>\n",
       "      <td>No</td>\n",
       "    </tr>\n",
       "    <tr>\n",
       "      <th>638450</th>\n",
       "      <td>WY01700</td>\n",
       "      <td>Sheriff</td>\n",
       "      <td>Wyoming</td>\n",
       "      <td>2014</td>\n",
       "      <td>June</td>\n",
       "      <td>Male</td>\n",
       "      <td>62</td>\n",
       "      <td>White</td>\n",
       "      <td>Unknown</td>\n",
       "      <td>Male</td>\n",
       "      <td>White</td>\n",
       "      <td>Unknown</td>\n",
       "      <td>Acquaintance</td>\n",
       "      <td>Handgun</td>\n",
       "      <td>Sheridan,Wyoming</td>\n",
       "      <td>57.0</td>\n",
       "      <td>Yes</td>\n",
       "    </tr>\n",
       "    <tr>\n",
       "      <th>638451</th>\n",
       "      <td>WY01701</td>\n",
       "      <td>Municipal Police</td>\n",
       "      <td>Wyoming</td>\n",
       "      <td>2014</td>\n",
       "      <td>September</td>\n",
       "      <td>Female</td>\n",
       "      <td>0</td>\n",
       "      <td>Asian/Pacific Islander</td>\n",
       "      <td>Unknown</td>\n",
       "      <td>Female</td>\n",
       "      <td>Asian/Pacific Islander</td>\n",
       "      <td>Unknown</td>\n",
       "      <td>Daughter</td>\n",
       "      <td>Suffocation</td>\n",
       "      <td>Sheridan,Wyoming</td>\n",
       "      <td>22.0</td>\n",
       "      <td>Yes</td>\n",
       "    </tr>\n",
       "    <tr>\n",
       "      <th>638452</th>\n",
       "      <td>WY01800</td>\n",
       "      <td>Sheriff</td>\n",
       "      <td>Wyoming</td>\n",
       "      <td>2014</td>\n",
       "      <td>December</td>\n",
       "      <td>Male</td>\n",
       "      <td>55</td>\n",
       "      <td>White</td>\n",
       "      <td>Not Hispanic</td>\n",
       "      <td>Male</td>\n",
       "      <td>White</td>\n",
       "      <td>Not Hispanic</td>\n",
       "      <td>Stranger</td>\n",
       "      <td>Knife</td>\n",
       "      <td>Sublette,Wyoming</td>\n",
       "      <td>31.0</td>\n",
       "      <td>Yes</td>\n",
       "    </tr>\n",
       "    <tr>\n",
       "      <th>638453</th>\n",
       "      <td>WY01902</td>\n",
       "      <td>Municipal Police</td>\n",
       "      <td>Wyoming</td>\n",
       "      <td>2014</td>\n",
       "      <td>September</td>\n",
       "      <td>Female</td>\n",
       "      <td>0</td>\n",
       "      <td>White</td>\n",
       "      <td>Not Hispanic</td>\n",
       "      <td>Female</td>\n",
       "      <td>White</td>\n",
       "      <td>Not Hispanic</td>\n",
       "      <td>Daughter</td>\n",
       "      <td>Blunt Object</td>\n",
       "      <td>Sweetwater,Wyoming</td>\n",
       "      <td>24.0</td>\n",
       "      <td>Yes</td>\n",
       "    </tr>\n",
       "  </tbody>\n",
       "</table>\n",
       "<p>638454 rows × 17 columns</p>\n",
       "</div>"
      ],
      "text/plain": [
       "       Agency_Code       Agency_Type    State  Year      Month Victim_Sex  \\\n",
       "0          AK00101  Municipal Police   Alaska  1980    January       Male   \n",
       "1          AK00101  Municipal Police   Alaska  1980      March       Male   \n",
       "2          AK00101  Municipal Police   Alaska  1980      March     Female   \n",
       "3          AK00101  Municipal Police   Alaska  1980      April       Male   \n",
       "4          AK00101  Municipal Police   Alaska  1980      April     Female   \n",
       "...            ...               ...      ...   ...        ...        ...   \n",
       "638449     WY01500           Sheriff  Wyoming  2014    January       Male   \n",
       "638450     WY01700           Sheriff  Wyoming  2014       June       Male   \n",
       "638451     WY01701  Municipal Police  Wyoming  2014  September     Female   \n",
       "638452     WY01800           Sheriff  Wyoming  2014   December       Male   \n",
       "638453     WY01902  Municipal Police  Wyoming  2014  September     Female   \n",
       "\n",
       "        Victim_Age                    Victim_Race Victim_Ethnicity  \\\n",
       "0               14  Native American/Alaska Native          Unknown   \n",
       "1               43                          White          Unknown   \n",
       "2               30  Native American/Alaska Native          Unknown   \n",
       "3               43                          White          Unknown   \n",
       "4               30  Native American/Alaska Native          Unknown   \n",
       "...            ...                            ...              ...   \n",
       "638449          30                          White         Hispanic   \n",
       "638450          62                          White          Unknown   \n",
       "638451           0         Asian/Pacific Islander          Unknown   \n",
       "638452          55                          White     Not Hispanic   \n",
       "638453           0                          White     Not Hispanic   \n",
       "\n",
       "       Perpetrator_Sex               Perpetrator_Race Perpetrator_Ethnicity  \\\n",
       "0                 Male  Native American/Alaska Native               Unknown   \n",
       "1                 Male                          White               Unknown   \n",
       "2              Unknown                        Unknown               Unknown   \n",
       "3                 Male                          White               Unknown   \n",
       "4              Unknown                        Unknown               Unknown   \n",
       "...                ...                            ...                   ...   \n",
       "638449         Unknown                        Unknown               Unknown   \n",
       "638450            Male                          White               Unknown   \n",
       "638451          Female         Asian/Pacific Islander               Unknown   \n",
       "638452            Male                          White          Not Hispanic   \n",
       "638453          Female                          White          Not Hispanic   \n",
       "\n",
       "        Relationship         Weapon          City_State  Perpetrator_Age  \\\n",
       "0       Acquaintance   Blunt Object    Anchorage,Alaska             15.0   \n",
       "1       Acquaintance  Strangulation    Anchorage,Alaska             42.0   \n",
       "2            Unknown        Unknown    Anchorage,Alaska              0.0   \n",
       "3       Acquaintance  Strangulation    Anchorage,Alaska             42.0   \n",
       "4            Unknown        Unknown    Anchorage,Alaska              0.0   \n",
       "...              ...            ...                 ...              ...   \n",
       "638449       Unknown        Handgun        Park,Wyoming              0.0   \n",
       "638450  Acquaintance        Handgun    Sheridan,Wyoming             57.0   \n",
       "638451      Daughter    Suffocation    Sheridan,Wyoming             22.0   \n",
       "638452      Stranger          Knife    Sublette,Wyoming             31.0   \n",
       "638453      Daughter   Blunt Object  Sweetwater,Wyoming             24.0   \n",
       "\n",
       "       Crime_Solved  \n",
       "0               Yes  \n",
       "1               Yes  \n",
       "2                No  \n",
       "3               Yes  \n",
       "4                No  \n",
       "...             ...  \n",
       "638449           No  \n",
       "638450          Yes  \n",
       "638451          Yes  \n",
       "638452          Yes  \n",
       "638453          Yes  \n",
       "\n",
       "[638454 rows x 17 columns]"
      ]
     },
     "execution_count": 9,
     "metadata": {},
     "output_type": "execute_result"
    }
   ],
   "source": [
    "# DataFrame\n",
    "pandas_df = df.select(\"*\").toPandas()\n",
    "pandas_df"
   ]
  },
  {
   "cell_type": "markdown",
   "metadata": {},
   "source": [
    "### Missing values"
   ]
  },
  {
   "cell_type": "code",
   "execution_count": 10,
   "metadata": {},
   "outputs": [],
   "source": [
    "# Elimination Victim_Sex =\"Unknown\"\n",
    "df=df.filter(df.Victim_Sex!=\"Unknown\")\n",
    "# Elimination Victim_Age =998 e 99\n",
    "df=df.filter(df.Victim_Age<99)\n",
    "# Elimination Victim_Race =\"Unknown\"\n",
    "df=df.filter(df.Victim_Race!=\"Unknown\")\n",
    "# Elimination Perp_Age=1\n",
    "df=df.filter(df.Perpetrator_Age!=1)\n",
    "# Elimination Perp_Age=99\n",
    "df=df.filter(df.Perpetrator_Age!=99)"
   ]
  },
  {
   "cell_type": "code",
   "execution_count": 11,
   "metadata": {},
   "outputs": [],
   "source": [
    "# Elimination Perp_Age<10\n",
    "df.createOrReplaceTempView(\"homicide\")\n",
    "df=sqlCtx.sql(\"SELECT * FROM homicide WHERE Perpetrator_Age==0 OR Perpetrator_Age>=10\")"
   ]
  },
  {
   "cell_type": "code",
   "execution_count": 12,
   "metadata": {},
   "outputs": [],
   "source": [
    "# Create view\n",
    "df.createOrReplaceTempView(\"homicide\")\n",
    "# Elimination Perp_Sex = Unknown, Perp_Race=\"Unknown\" e Crime_Solved=YES\n",
    "df=sqlCtx.sql(\"SELECT * FROM homicide WHERE Crime_Solved='No' OR (Crime_Solved='Yes' AND Perpetrator_Sex!='Unknown' AND Perpetrator_Race!='Unknown')\")"
   ]
  },
  {
   "cell_type": "code",
   "execution_count": 13,
   "metadata": {},
   "outputs": [
    {
     "name": "stdout",
     "output_type": "stream",
     "text": [
      "The number of row and columns:  618161 , 17\n"
     ]
    }
   ],
   "source": [
    "print(\"The number of rows and columns: \",df.count(),\",\",len(df.columns))"
   ]
  },
  {
   "cell_type": "markdown",
   "metadata": {},
   "source": [
    "### Some other Trasformation"
   ]
  },
  {
   "cell_type": "code",
   "execution_count": 14,
   "metadata": {},
   "outputs": [],
   "source": [
    "df=df.withColumn('Relationship',regexp_replace('Relationship','Boyfriend','Boyfriend/Girlfriend'))"
   ]
  },
  {
   "cell_type": "code",
   "execution_count": 15,
   "metadata": {},
   "outputs": [],
   "source": [
    "# Strange cases B/G --> B/B/G\n",
    "df=df.withColumn('Relationship',regexp_replace('Relationship','Boyfriend/Girlfriend/Girlfriend','Boyfriend/Girlfriend'))"
   ]
  },
  {
   "cell_type": "code",
   "execution_count": 16,
   "metadata": {},
   "outputs": [],
   "source": [
    "df=df.withColumn('Relationship',regexp_replace('Relationship','Girlfriend','Boyfriend/Girlfriend'))"
   ]
  },
  {
   "cell_type": "code",
   "execution_count": 17,
   "metadata": {},
   "outputs": [],
   "source": [
    "df=df.withColumn('Relationship',regexp_replace('Relationship','Boyfriend/Boyfriend/Girlfriend','Boyfriend/Girlfriend'))"
   ]
  },
  {
   "cell_type": "code",
   "execution_count": 18,
   "metadata": {},
   "outputs": [],
   "source": [
    "df=df.withColumn('Relationship',regexp_replace('Relationship','Employer','Employee'))"
   ]
  },
  {
   "cell_type": "code",
   "execution_count": 19,
   "metadata": {},
   "outputs": [],
   "source": [
    "# Create view\n",
    "df.createOrReplaceTempView(\"homicide\")"
   ]
  },
  {
   "cell_type": "code",
   "execution_count": 20,
   "metadata": {},
   "outputs": [
    {
     "name": "stdout",
     "output_type": "stream",
     "text": [
      "Column Agency_Code has 11925 distinct values\n",
      "Column Agency_Type has 7 distinct values\n",
      "Column State has 51 distinct values\n",
      "Column Year has 35 distinct values\n",
      "Column Month has 12 distinct values\n",
      "Column Victim_Sex has 2 distinct values\n",
      "Column Victim_Age has 99 distinct values\n",
      "Column Victim_Race has 4 distinct values\n",
      "Column Victim_Ethnicity has 3 distinct values\n",
      "Column Perpetrator_Sex has 3 distinct values\n",
      "Column Perpetrator_Race has 5 distinct values\n",
      "Column Perpetrator_Ethnicity has 3 distinct values\n",
      "Column Relationship has 25 distinct values\n",
      "Column Weapon has 16 distinct values\n",
      "Column City_State has 3039 distinct values\n",
      "Column Perpetrator_Age has 90 distinct values\n",
      "Column Crime_Solved has 2 distinct values\n"
     ]
    }
   ],
   "source": [
    "for col in df.columns:\n",
    "    x=df.select(col).distinct().count()\n",
    "    print('Column',col, 'has',x,'distinct values')"
   ]
  },
  {
   "cell_type": "code",
   "execution_count": 21,
   "metadata": {},
   "outputs": [
    {
     "name": "stdout",
     "output_type": "stream",
     "text": [
      "The final number of row and columns:  618161 , 17\n"
     ]
    }
   ],
   "source": [
    "print(\"The final number of row and columns: \",df.count(),\",\",len(df.columns))"
   ]
  },
  {
   "cell_type": "code",
   "execution_count": 22,
   "metadata": {},
   "outputs": [],
   "source": [
    "df.toPandas().to_csv(\"Homicide_clean_final.csv\", index = False)"
   ]
  },
  {
   "cell_type": "markdown",
   "metadata": {},
   "source": [
    "## Categorization Victim_Age e Perp_Age"
   ]
  },
  {
   "cell_type": "code",
   "execution_count": 23,
   "metadata": {},
   "outputs": [],
   "source": [
    "bucketizer = Bucketizer(splits=[0,5,10,15,20,25,30,35,40,45,50,55,60,65,70,75,80,85,90,95,100, float('Inf') ],inputCol=\"Victim_Age\", outputCol=\"Victim_Age_Disc\")\n",
    "df = bucketizer.setHandleInvalid(\"keep\").transform(df)\n",
    "df=df.drop('Victim_Age')"
   ]
  },
  {
   "cell_type": "code",
   "execution_count": 24,
   "metadata": {},
   "outputs": [],
   "source": [
    "df = df.withColumnRenamed(\"Victim_Age_Disc\", \"Victim_Age\")"
   ]
  },
  {
   "cell_type": "code",
   "execution_count": 25,
   "metadata": {},
   "outputs": [
    {
     "name": "stdout",
     "output_type": "stream",
     "text": [
      "+----------+\n",
      "|Victim_Age|\n",
      "+----------+\n",
      "|   [11-15]|\n",
      "|   [41-45]|\n",
      "|   [31-35]|\n",
      "|   [41-45]|\n",
      "|   [31-35]|\n",
      "|   [31-35]|\n",
      "|   [41-45]|\n",
      "|   [31-35]|\n",
      "|   [36-40]|\n",
      "|   [21-25]|\n",
      "+----------+\n",
      "only showing top 10 rows\n",
      "\n"
     ]
    }
   ],
   "source": [
    "t = {0.0:\"[0-5]\", 1.0: \"[6-10]\", 2.0:\"[11-15]\", 3.0: \"[16-20]\",\n",
    "    4.0: \"[21-25]\",\n",
    "    5.0: \"[26-30]\",\n",
    "    6.0: \"[31-35]\",\n",
    "    7.0: \"[36-40]\",\n",
    "    8.0: \"[41-45]\",\n",
    "    9.0: \"[46-50]\",\n",
    "    10.0: \"[51-55]\",\n",
    "    11.0: \"[56-60]\",\n",
    "    12.0: \"[61-65]\",\n",
    "    13.0: \"[66-70]\",\n",
    "    14.0: \"[71-75]\",\n",
    "    15.0: \"[76-80]\",\n",
    "    16.0: \"[81-85]\",\n",
    "    17.0: \"[86-90]\",\n",
    "     18.0: \"[91-95]\",\n",
    "     19.0: \"[96-100]\"\n",
    "    }\n",
    "udf_foo = udf(lambda x: t[x], StringType())\n",
    "df=df.withColumn(\"Victim_Age\", udf_foo(\"Victim_Age\"))\n",
    "df.select('Victim_Age').show(10)"
   ]
  },
  {
   "cell_type": "code",
   "execution_count": 26,
   "metadata": {},
   "outputs": [],
   "source": [
    "bucketizer = Bucketizer(splits=[ 0,10,20,30,40,50,60,70,80,90,100, float('Inf') ],inputCol=\"Perpetrator_Age\", outputCol=\"Perpetrator_Age_Disc\")\n",
    "df = bucketizer.setHandleInvalid(\"keep\").transform(df)\n",
    "df=df.drop('Perpetrator_Age')\n",
    "df = df.withColumnRenamed(\"Perpetrator_Age_Disc\", \"Perpetrator_Age\")"
   ]
  },
  {
   "cell_type": "code",
   "execution_count": 27,
   "metadata": {},
   "outputs": [
    {
     "name": "stdout",
     "output_type": "stream",
     "text": [
      "+---------------+\n",
      "|Perpetrator_Age|\n",
      "+---------------+\n",
      "|        [11-20]|\n",
      "|        [41-50]|\n",
      "|         [0-10]|\n",
      "|        [41-50]|\n",
      "|         [0-10]|\n",
      "|        [31-40]|\n",
      "|        [21-30]|\n",
      "|         [0-10]|\n",
      "|         [0-10]|\n",
      "|        [41-50]|\n",
      "+---------------+\n",
      "only showing top 10 rows\n",
      "\n"
     ]
    }
   ],
   "source": [
    "t = {0.0:\"[0-10]\", \n",
    "    1.0: \"[11-20]\",\n",
    "    2.0:\"[21-30]\",\n",
    "    3.0: \"[31-40]\",\n",
    "    4.0: \"[41-50]\",\n",
    "    5.0: \"[51-60]\",\n",
    "    6.0: \"[61-70]\",\n",
    "    7.0: \"[71-80]\",\n",
    "    8.0: \"[81-90]\",\n",
    "    9.0: \"[91-100]\",\n",
    "    }\n",
    "\n",
    "udf_foo = udf(lambda x: t[x], StringType())\n",
    "df=df.withColumn(\"Perpetrator_Age\", udf_foo(\"Perpetrator_Age\"))\n",
    "df.select('Perpetrator_Age').show(10)"
   ]
  },
  {
   "cell_type": "code",
   "execution_count": 28,
   "metadata": {},
   "outputs": [
    {
     "data": {
      "text/plain": [
       "[('Agency_Code', 'string'),\n",
       " ('Agency_Type', 'string'),\n",
       " ('State', 'string'),\n",
       " ('Year', 'int'),\n",
       " ('Month', 'string'),\n",
       " ('Victim_Sex', 'string'),\n",
       " ('Victim_Race', 'string'),\n",
       " ('Victim_Ethnicity', 'string'),\n",
       " ('Perpetrator_Sex', 'string'),\n",
       " ('Perpetrator_Race', 'string'),\n",
       " ('Perpetrator_Ethnicity', 'string'),\n",
       " ('Relationship', 'string'),\n",
       " ('Weapon', 'string'),\n",
       " ('City_State', 'string'),\n",
       " ('Crime_Solved', 'string'),\n",
       " ('Victim_Age', 'string'),\n",
       " ('Perpetrator_Age', 'string')]"
      ]
     },
     "execution_count": 28,
     "metadata": {},
     "output_type": "execute_result"
    }
   ],
   "source": [
    "df.dtypes"
   ]
  },
  {
   "cell_type": "markdown",
   "metadata": {},
   "source": [
    "# Save database"
   ]
  },
  {
   "cell_type": "code",
   "execution_count": 29,
   "metadata": {},
   "outputs": [
    {
     "name": "stdout",
     "output_type": "stream",
     "text": [
      "The final number of row and columns:  618161 , 17\n"
     ]
    }
   ],
   "source": [
    "print(\"The final number of row and columns: \",df.count(),\",\",len(df.columns))"
   ]
  },
  {
   "cell_type": "code",
   "execution_count": 30,
   "metadata": {},
   "outputs": [],
   "source": [
    "df.toPandas().to_csv(\"Homicide_clean_Discr.csv\", index = False)"
   ]
  }
 ],
 "metadata": {
  "kernelspec": {
   "display_name": "Python 3",
   "language": "python",
   "name": "python3"
  },
  "language_info": {
   "codemirror_mode": {
    "name": "ipython",
    "version": 3
   },
   "file_extension": ".py",
   "mimetype": "text/x-python",
   "name": "python",
   "nbconvert_exporter": "python",
   "pygments_lexer": "ipython3",
   "version": "3.7.7"
  }
 },
 "nbformat": 4,
 "nbformat_minor": 4
}
