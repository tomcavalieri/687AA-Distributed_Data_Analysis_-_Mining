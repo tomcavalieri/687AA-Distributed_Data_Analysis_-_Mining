{
 "cells": [
  {
   "cell_type": "code",
   "execution_count": 1,
   "metadata": {},
   "outputs": [],
   "source": [
    "from pyspark import SparkContext\n",
    "sc = SparkContext(appName=\"MY-APP-NAME\", master=\"local[*]\")\n",
    "\n",
    "from pyspark.sql import SQLContext\n",
    "sqlCtx = SQLContext(sc)\n",
    "\n",
    "from pyspark.sql.functions import *\n",
    "import pandas as pd\n",
    "from pyspark.mllib.stat import Statistics"
   ]
  },
  {
   "cell_type": "code",
   "execution_count": 2,
   "metadata": {},
   "outputs": [],
   "source": [
    "df = sqlCtx.read.load(\"database_Homicide.csv\",\n",
    "                     format=\"csv\", sep=\",\", inferSchema=\"true\", header=\"true\")"
   ]
  },
  {
   "cell_type": "code",
   "execution_count": 3,
   "metadata": {},
   "outputs": [
    {
     "data": {
      "text/html": [
       "<div>\n",
       "<style scoped>\n",
       "    .dataframe tbody tr th:only-of-type {\n",
       "        vertical-align: middle;\n",
       "    }\n",
       "\n",
       "    .dataframe tbody tr th {\n",
       "        vertical-align: top;\n",
       "    }\n",
       "\n",
       "    .dataframe thead th {\n",
       "        text-align: right;\n",
       "    }\n",
       "</style>\n",
       "<table border=\"1\" class=\"dataframe\">\n",
       "  <thead>\n",
       "    <tr style=\"text-align: right;\">\n",
       "      <th></th>\n",
       "      <th>Record ID</th>\n",
       "      <th>Agency Code</th>\n",
       "      <th>Agency Name</th>\n",
       "      <th>Agency Type</th>\n",
       "      <th>City</th>\n",
       "      <th>State</th>\n",
       "      <th>Year</th>\n",
       "      <th>Month</th>\n",
       "      <th>Incident</th>\n",
       "      <th>Crime Type</th>\n",
       "      <th>...</th>\n",
       "      <th>Victim Ethnicity</th>\n",
       "      <th>Perpetrator Sex</th>\n",
       "      <th>Perpetrator Age</th>\n",
       "      <th>Perpetrator Race</th>\n",
       "      <th>Perpetrator Ethnicity</th>\n",
       "      <th>Relationship</th>\n",
       "      <th>Weapon</th>\n",
       "      <th>Victim Count</th>\n",
       "      <th>Perpetrator Count</th>\n",
       "      <th>Record Source</th>\n",
       "    </tr>\n",
       "  </thead>\n",
       "  <tbody>\n",
       "    <tr>\n",
       "      <th>0</th>\n",
       "      <td>1</td>\n",
       "      <td>AK00101</td>\n",
       "      <td>Anchorage</td>\n",
       "      <td>Municipal Police</td>\n",
       "      <td>Anchorage</td>\n",
       "      <td>Alaska</td>\n",
       "      <td>1980</td>\n",
       "      <td>January</td>\n",
       "      <td>1</td>\n",
       "      <td>Murder or Manslaughter</td>\n",
       "      <td>...</td>\n",
       "      <td>Unknown</td>\n",
       "      <td>Male</td>\n",
       "      <td>15</td>\n",
       "      <td>Native American/Alaska Native</td>\n",
       "      <td>Unknown</td>\n",
       "      <td>Acquaintance</td>\n",
       "      <td>Blunt Object</td>\n",
       "      <td>0</td>\n",
       "      <td>0</td>\n",
       "      <td>FBI</td>\n",
       "    </tr>\n",
       "    <tr>\n",
       "      <th>1</th>\n",
       "      <td>2</td>\n",
       "      <td>AK00101</td>\n",
       "      <td>Anchorage</td>\n",
       "      <td>Municipal Police</td>\n",
       "      <td>Anchorage</td>\n",
       "      <td>Alaska</td>\n",
       "      <td>1980</td>\n",
       "      <td>March</td>\n",
       "      <td>1</td>\n",
       "      <td>Murder or Manslaughter</td>\n",
       "      <td>...</td>\n",
       "      <td>Unknown</td>\n",
       "      <td>Male</td>\n",
       "      <td>42</td>\n",
       "      <td>White</td>\n",
       "      <td>Unknown</td>\n",
       "      <td>Acquaintance</td>\n",
       "      <td>Strangulation</td>\n",
       "      <td>0</td>\n",
       "      <td>0</td>\n",
       "      <td>FBI</td>\n",
       "    </tr>\n",
       "    <tr>\n",
       "      <th>2</th>\n",
       "      <td>3</td>\n",
       "      <td>AK00101</td>\n",
       "      <td>Anchorage</td>\n",
       "      <td>Municipal Police</td>\n",
       "      <td>Anchorage</td>\n",
       "      <td>Alaska</td>\n",
       "      <td>1980</td>\n",
       "      <td>March</td>\n",
       "      <td>2</td>\n",
       "      <td>Murder or Manslaughter</td>\n",
       "      <td>...</td>\n",
       "      <td>Unknown</td>\n",
       "      <td>Unknown</td>\n",
       "      <td>0</td>\n",
       "      <td>Unknown</td>\n",
       "      <td>Unknown</td>\n",
       "      <td>Unknown</td>\n",
       "      <td>Unknown</td>\n",
       "      <td>0</td>\n",
       "      <td>0</td>\n",
       "      <td>FBI</td>\n",
       "    </tr>\n",
       "    <tr>\n",
       "      <th>3</th>\n",
       "      <td>4</td>\n",
       "      <td>AK00101</td>\n",
       "      <td>Anchorage</td>\n",
       "      <td>Municipal Police</td>\n",
       "      <td>Anchorage</td>\n",
       "      <td>Alaska</td>\n",
       "      <td>1980</td>\n",
       "      <td>April</td>\n",
       "      <td>1</td>\n",
       "      <td>Murder or Manslaughter</td>\n",
       "      <td>...</td>\n",
       "      <td>Unknown</td>\n",
       "      <td>Male</td>\n",
       "      <td>42</td>\n",
       "      <td>White</td>\n",
       "      <td>Unknown</td>\n",
       "      <td>Acquaintance</td>\n",
       "      <td>Strangulation</td>\n",
       "      <td>0</td>\n",
       "      <td>0</td>\n",
       "      <td>FBI</td>\n",
       "    </tr>\n",
       "    <tr>\n",
       "      <th>4</th>\n",
       "      <td>5</td>\n",
       "      <td>AK00101</td>\n",
       "      <td>Anchorage</td>\n",
       "      <td>Municipal Police</td>\n",
       "      <td>Anchorage</td>\n",
       "      <td>Alaska</td>\n",
       "      <td>1980</td>\n",
       "      <td>April</td>\n",
       "      <td>2</td>\n",
       "      <td>Murder or Manslaughter</td>\n",
       "      <td>...</td>\n",
       "      <td>Unknown</td>\n",
       "      <td>Unknown</td>\n",
       "      <td>0</td>\n",
       "      <td>Unknown</td>\n",
       "      <td>Unknown</td>\n",
       "      <td>Unknown</td>\n",
       "      <td>Unknown</td>\n",
       "      <td>0</td>\n",
       "      <td>1</td>\n",
       "      <td>FBI</td>\n",
       "    </tr>\n",
       "    <tr>\n",
       "      <th>...</th>\n",
       "      <td>...</td>\n",
       "      <td>...</td>\n",
       "      <td>...</td>\n",
       "      <td>...</td>\n",
       "      <td>...</td>\n",
       "      <td>...</td>\n",
       "      <td>...</td>\n",
       "      <td>...</td>\n",
       "      <td>...</td>\n",
       "      <td>...</td>\n",
       "      <td>...</td>\n",
       "      <td>...</td>\n",
       "      <td>...</td>\n",
       "      <td>...</td>\n",
       "      <td>...</td>\n",
       "      <td>...</td>\n",
       "      <td>...</td>\n",
       "      <td>...</td>\n",
       "      <td>...</td>\n",
       "      <td>...</td>\n",
       "      <td>...</td>\n",
       "    </tr>\n",
       "    <tr>\n",
       "      <th>638449</th>\n",
       "      <td>638450</td>\n",
       "      <td>WY01500</td>\n",
       "      <td>Park County</td>\n",
       "      <td>Sheriff</td>\n",
       "      <td>Park</td>\n",
       "      <td>Wyoming</td>\n",
       "      <td>2014</td>\n",
       "      <td>January</td>\n",
       "      <td>1</td>\n",
       "      <td>Murder or Manslaughter</td>\n",
       "      <td>...</td>\n",
       "      <td>Hispanic</td>\n",
       "      <td>Unknown</td>\n",
       "      <td>0</td>\n",
       "      <td>Unknown</td>\n",
       "      <td>Unknown</td>\n",
       "      <td>Unknown</td>\n",
       "      <td>Handgun</td>\n",
       "      <td>0</td>\n",
       "      <td>0</td>\n",
       "      <td>FBI</td>\n",
       "    </tr>\n",
       "    <tr>\n",
       "      <th>638450</th>\n",
       "      <td>638451</td>\n",
       "      <td>WY01700</td>\n",
       "      <td>Sheridan County</td>\n",
       "      <td>Sheriff</td>\n",
       "      <td>Sheridan</td>\n",
       "      <td>Wyoming</td>\n",
       "      <td>2014</td>\n",
       "      <td>June</td>\n",
       "      <td>1</td>\n",
       "      <td>Murder or Manslaughter</td>\n",
       "      <td>...</td>\n",
       "      <td>Unknown</td>\n",
       "      <td>Male</td>\n",
       "      <td>57</td>\n",
       "      <td>White</td>\n",
       "      <td>Unknown</td>\n",
       "      <td>Acquaintance</td>\n",
       "      <td>Handgun</td>\n",
       "      <td>0</td>\n",
       "      <td>0</td>\n",
       "      <td>FBI</td>\n",
       "    </tr>\n",
       "    <tr>\n",
       "      <th>638451</th>\n",
       "      <td>638452</td>\n",
       "      <td>WY01701</td>\n",
       "      <td>Sheridan</td>\n",
       "      <td>Municipal Police</td>\n",
       "      <td>Sheridan</td>\n",
       "      <td>Wyoming</td>\n",
       "      <td>2014</td>\n",
       "      <td>September</td>\n",
       "      <td>1</td>\n",
       "      <td>Murder or Manslaughter</td>\n",
       "      <td>...</td>\n",
       "      <td>Unknown</td>\n",
       "      <td>Female</td>\n",
       "      <td>22</td>\n",
       "      <td>Asian/Pacific Islander</td>\n",
       "      <td>Unknown</td>\n",
       "      <td>Daughter</td>\n",
       "      <td>Suffocation</td>\n",
       "      <td>0</td>\n",
       "      <td>0</td>\n",
       "      <td>FBI</td>\n",
       "    </tr>\n",
       "    <tr>\n",
       "      <th>638452</th>\n",
       "      <td>638453</td>\n",
       "      <td>WY01800</td>\n",
       "      <td>Sublette County</td>\n",
       "      <td>Sheriff</td>\n",
       "      <td>Sublette</td>\n",
       "      <td>Wyoming</td>\n",
       "      <td>2014</td>\n",
       "      <td>December</td>\n",
       "      <td>1</td>\n",
       "      <td>Murder or Manslaughter</td>\n",
       "      <td>...</td>\n",
       "      <td>Not Hispanic</td>\n",
       "      <td>Male</td>\n",
       "      <td>31</td>\n",
       "      <td>White</td>\n",
       "      <td>Not Hispanic</td>\n",
       "      <td>Stranger</td>\n",
       "      <td>Knife</td>\n",
       "      <td>0</td>\n",
       "      <td>1</td>\n",
       "      <td>FBI</td>\n",
       "    </tr>\n",
       "    <tr>\n",
       "      <th>638453</th>\n",
       "      <td>638454</td>\n",
       "      <td>WY01902</td>\n",
       "      <td>Rock Springs</td>\n",
       "      <td>Municipal Police</td>\n",
       "      <td>Sweetwater</td>\n",
       "      <td>Wyoming</td>\n",
       "      <td>2014</td>\n",
       "      <td>September</td>\n",
       "      <td>1</td>\n",
       "      <td>Murder or Manslaughter</td>\n",
       "      <td>...</td>\n",
       "      <td>Not Hispanic</td>\n",
       "      <td>Female</td>\n",
       "      <td>24</td>\n",
       "      <td>White</td>\n",
       "      <td>Not Hispanic</td>\n",
       "      <td>Daughter</td>\n",
       "      <td>Blunt Object</td>\n",
       "      <td>0</td>\n",
       "      <td>1</td>\n",
       "      <td>FBI</td>\n",
       "    </tr>\n",
       "  </tbody>\n",
       "</table>\n",
       "<p>638454 rows × 24 columns</p>\n",
       "</div>"
      ],
      "text/plain": [
       "        Record ID Agency Code      Agency Name       Agency Type        City  \\\n",
       "0               1     AK00101        Anchorage  Municipal Police   Anchorage   \n",
       "1               2     AK00101        Anchorage  Municipal Police   Anchorage   \n",
       "2               3     AK00101        Anchorage  Municipal Police   Anchorage   \n",
       "3               4     AK00101        Anchorage  Municipal Police   Anchorage   \n",
       "4               5     AK00101        Anchorage  Municipal Police   Anchorage   \n",
       "...           ...         ...              ...               ...         ...   \n",
       "638449     638450     WY01500      Park County           Sheriff        Park   \n",
       "638450     638451     WY01700  Sheridan County           Sheriff    Sheridan   \n",
       "638451     638452     WY01701         Sheridan  Municipal Police    Sheridan   \n",
       "638452     638453     WY01800  Sublette County           Sheriff    Sublette   \n",
       "638453     638454     WY01902     Rock Springs  Municipal Police  Sweetwater   \n",
       "\n",
       "          State  Year      Month  Incident              Crime Type  ...  \\\n",
       "0        Alaska  1980    January         1  Murder or Manslaughter  ...   \n",
       "1        Alaska  1980      March         1  Murder or Manslaughter  ...   \n",
       "2        Alaska  1980      March         2  Murder or Manslaughter  ...   \n",
       "3        Alaska  1980      April         1  Murder or Manslaughter  ...   \n",
       "4        Alaska  1980      April         2  Murder or Manslaughter  ...   \n",
       "...         ...   ...        ...       ...                     ...  ...   \n",
       "638449  Wyoming  2014    January         1  Murder or Manslaughter  ...   \n",
       "638450  Wyoming  2014       June         1  Murder or Manslaughter  ...   \n",
       "638451  Wyoming  2014  September         1  Murder or Manslaughter  ...   \n",
       "638452  Wyoming  2014   December         1  Murder or Manslaughter  ...   \n",
       "638453  Wyoming  2014  September         1  Murder or Manslaughter  ...   \n",
       "\n",
       "       Victim Ethnicity Perpetrator Sex  Perpetrator Age  \\\n",
       "0               Unknown            Male               15   \n",
       "1               Unknown            Male               42   \n",
       "2               Unknown         Unknown                0   \n",
       "3               Unknown            Male               42   \n",
       "4               Unknown         Unknown                0   \n",
       "...                 ...             ...              ...   \n",
       "638449         Hispanic         Unknown                0   \n",
       "638450          Unknown            Male               57   \n",
       "638451          Unknown          Female               22   \n",
       "638452     Not Hispanic            Male               31   \n",
       "638453     Not Hispanic          Female               24   \n",
       "\n",
       "                     Perpetrator Race Perpetrator Ethnicity  Relationship  \\\n",
       "0       Native American/Alaska Native               Unknown  Acquaintance   \n",
       "1                               White               Unknown  Acquaintance   \n",
       "2                             Unknown               Unknown       Unknown   \n",
       "3                               White               Unknown  Acquaintance   \n",
       "4                             Unknown               Unknown       Unknown   \n",
       "...                               ...                   ...           ...   \n",
       "638449                        Unknown               Unknown       Unknown   \n",
       "638450                          White               Unknown  Acquaintance   \n",
       "638451         Asian/Pacific Islander               Unknown      Daughter   \n",
       "638452                          White          Not Hispanic      Stranger   \n",
       "638453                          White          Not Hispanic      Daughter   \n",
       "\n",
       "               Weapon Victim Count Perpetrator Count Record Source  \n",
       "0        Blunt Object            0                 0           FBI  \n",
       "1       Strangulation            0                 0           FBI  \n",
       "2             Unknown            0                 0           FBI  \n",
       "3       Strangulation            0                 0           FBI  \n",
       "4             Unknown            0                 1           FBI  \n",
       "...               ...          ...               ...           ...  \n",
       "638449        Handgun            0                 0           FBI  \n",
       "638450        Handgun            0                 0           FBI  \n",
       "638451    Suffocation            0                 0           FBI  \n",
       "638452          Knife            0                 1           FBI  \n",
       "638453   Blunt Object            0                 1           FBI  \n",
       "\n",
       "[638454 rows x 24 columns]"
      ]
     },
     "execution_count": 3,
     "metadata": {},
     "output_type": "execute_result"
    }
   ],
   "source": [
    "# DataFrame\n",
    "pandas_df = df.select(\"*\").toPandas()\n",
    "pandas_df"
   ]
  },
  {
   "cell_type": "code",
   "execution_count": 4,
   "metadata": {},
   "outputs": [
    {
     "name": "stdout",
     "output_type": "stream",
     "text": [
      "The number of rows and columns:  638454 , 24\n"
     ]
    }
   ],
   "source": [
    "print(\"The number of rows and columns: \",df.count(),\",\",len(df.columns))"
   ]
  },
  {
   "cell_type": "code",
   "execution_count": 5,
   "metadata": {},
   "outputs": [
    {
     "data": {
      "text/plain": [
       "[('Record ID', 'int'),\n",
       " ('Agency Code', 'string'),\n",
       " ('Agency Name', 'string'),\n",
       " ('Agency Type', 'string'),\n",
       " ('City', 'string'),\n",
       " ('State', 'string'),\n",
       " ('Year', 'int'),\n",
       " ('Month', 'string'),\n",
       " ('Incident', 'int'),\n",
       " ('Crime Type', 'string'),\n",
       " ('Crime Solved', 'string'),\n",
       " ('Victim Sex', 'string'),\n",
       " ('Victim Age', 'int'),\n",
       " ('Victim Race', 'string'),\n",
       " ('Victim Ethnicity', 'string'),\n",
       " ('Perpetrator Sex', 'string'),\n",
       " ('Perpetrator Age', 'string'),\n",
       " ('Perpetrator Race', 'string'),\n",
       " ('Perpetrator Ethnicity', 'string'),\n",
       " ('Relationship', 'string'),\n",
       " ('Weapon', 'string'),\n",
       " ('Victim Count', 'int'),\n",
       " ('Perpetrator Count', 'int'),\n",
       " ('Record Source', 'string')]"
      ]
     },
     "execution_count": 5,
     "metadata": {},
     "output_type": "execute_result"
    }
   ],
   "source": [
    "# Columns type\n",
    "df.dtypes"
   ]
  },
  {
   "cell_type": "code",
   "execution_count": 6,
   "metadata": {},
   "outputs": [
    {
     "name": "stdout",
     "output_type": "stream",
     "text": [
      "Column Record ID has 638454 distinct values\n",
      "Column Agency Code has 12003 distinct values\n",
      "Column Agency Name has 9216 distinct values\n",
      "Column Agency Type has 7 distinct values\n",
      "Column City has 1782 distinct values\n",
      "Column State has 51 distinct values\n",
      "Column Year has 35 distinct values\n",
      "Column Month has 12 distinct values\n",
      "Column Incident has 1000 distinct values\n",
      "Column Crime Type has 2 distinct values\n",
      "Column Crime Solved has 2 distinct values\n",
      "Column Victim Sex has 3 distinct values\n",
      "Column Victim Age has 101 distinct values\n",
      "Column Victim Race has 5 distinct values\n",
      "Column Victim Ethnicity has 3 distinct values\n",
      "Column Perpetrator Sex has 3 distinct values\n",
      "Column Perpetrator Age has 101 distinct values\n",
      "Column Perpetrator Race has 5 distinct values\n",
      "Column Perpetrator Ethnicity has 3 distinct values\n",
      "Column Relationship has 28 distinct values\n",
      "Column Weapon has 16 distinct values\n",
      "Column Victim Count has 11 distinct values\n",
      "Column Perpetrator Count has 11 distinct values\n",
      "Column Record Source has 2 distinct values\n"
     ]
    }
   ],
   "source": [
    "# Count distinct values columns\n",
    "for col in df.columns:\n",
    "    x=df.select(col).distinct().count()\n",
    "    print('Column',col, 'has',x,'distinct values')"
   ]
  },
  {
   "cell_type": "code",
   "execution_count": 7,
   "metadata": {},
   "outputs": [],
   "source": [
    "# First drop\n",
    "df=df.drop('Record ID','Incident','Victim Count','Perpetrator Count')"
   ]
  },
  {
   "cell_type": "code",
   "execution_count": 8,
   "metadata": {},
   "outputs": [],
   "source": [
    "# Renamed column\n",
    "df = df.withColumnRenamed(\"Agency Code\", \"Agency_Code\")\\\n",
    " .withColumnRenamed(\"Agency Name\", \"Agency_Name\")\\\n",
    ".withColumnRenamed(\"Agency Type\", \"Agency_Type\")\\\n",
    ".withColumnRenamed(\"Crime Type\", \"Crime_Type\")\\\n",
    ".withColumnRenamed(\"Crime Solved\", \"Crime_Solved\")\\\n",
    ".withColumnRenamed(\"Victim Age\", \"Victim_Age\")\\\n",
    ".withColumnRenamed(\"Victim Sex\", \"Victim_Sex\")\\\n",
    ".withColumnRenamed(\"Victim Race\", \"Victim_Race\")\\\n",
    ".withColumnRenamed(\"Victim Ethnicity\", \"Victim_Ethnicity\")\\\n",
    ".withColumnRenamed(\"Perpetrator Sex\", \"Perpetrator_Sex\")\\\n",
    ".withColumnRenamed(\"Perpetrator Age\", \"Perpetrator_Age\")\\\n",
    ".withColumnRenamed(\"Perpetrator Race\", \"Perpetrator_Race\")\\\n",
    ".withColumnRenamed(\"Perpetrator Ethnicity\", \"Perpetrator_Ethnicity\")\\\n",
    ".withColumnRenamed(\"Record Source\", \"Record_Source\")"
   ]
  },
  {
   "cell_type": "code",
   "execution_count": 9,
   "metadata": {},
   "outputs": [],
   "source": [
    "# Create view\n",
    "df.createOrReplaceTempView(\"homicide\")"
   ]
  },
  {
   "cell_type": "code",
   "execution_count": 10,
   "metadata": {},
   "outputs": [
    {
     "name": "stdout",
     "output_type": "stream",
     "text": [
      "The number of rows and columns:  638454 , 20\n"
     ]
    }
   ],
   "source": [
    "print(\"The number of rows and columns: \",df.count(),\",\",len(df.columns))"
   ]
  },
  {
   "cell_type": "markdown",
   "metadata": {},
   "source": [
    "## Correlazione"
   ]
  },
  {
   "cell_type": "code",
   "execution_count": 11,
   "metadata": {
    "scrolled": false
   },
   "outputs": [
    {
     "name": "stdout",
     "output_type": "stream",
     "text": [
      "Correlation (Year, Victim_Age): 0.005513650636452138\n"
     ]
    }
   ],
   "source": [
    "# Year\n",
    "X= sqlCtx.sql(\"SELECT Year FROM homicide\")\n",
    "# Trasformo data frame in RDD per usarlo nella funzione corr\n",
    "Xseries= X.rdd.map(lambda p: p.Year)\n",
    "\n",
    "# Victim_Age\n",
    "Y= sqlCtx.sql(\"SELECT Victim_Age FROM homicide\")\n",
    "Yseries= Y.rdd.map(lambda p: p.Victim_Age)\n",
    "\n",
    "print(\"Correlation (Year, Victim_Age): \" + str(Statistics.corr(Xseries, Yseries, method=\"pearson\")))"
   ]
  },
  {
   "cell_type": "markdown",
   "metadata": {},
   "source": [
    "## Agency Type"
   ]
  },
  {
   "cell_type": "code",
   "execution_count": 12,
   "metadata": {},
   "outputs": [],
   "source": [
    "atype = sqlCtx.sql(\"SELECT Agency_Type FROM homicide\")"
   ]
  },
  {
   "cell_type": "code",
   "execution_count": 13,
   "metadata": {},
   "outputs": [
    {
     "name": "stdout",
     "output_type": "stream",
     "text": [
      "+----------------+\n",
      "|     Agency_Type|\n",
      "+----------------+\n",
      "|         Sheriff|\n",
      "|  Special Police|\n",
      "| Regional Police|\n",
      "|Municipal Police|\n",
      "|    State Police|\n",
      "|   County Police|\n",
      "|   Tribal Police|\n",
      "+----------------+\n",
      "\n"
     ]
    }
   ],
   "source": [
    "atype.distinct().show()"
   ]
  },
  {
   "cell_type": "code",
   "execution_count": 14,
   "metadata": {},
   "outputs": [],
   "source": [
    "# Count distinct values\n",
    "atype_count = sqlCtx.sql(\"SELECT Agency_Type, count(*) as Count FROM homicide GROUP BY Agency_Type\")"
   ]
  },
  {
   "cell_type": "code",
   "execution_count": 15,
   "metadata": {},
   "outputs": [
    {
     "name": "stdout",
     "output_type": "stream",
     "text": [
      "+----------------+------+\n",
      "|     Agency_Type| Count|\n",
      "+----------------+------+\n",
      "|         Sheriff|105322|\n",
      "|  Special Police|  2889|\n",
      "| Regional Police|   235|\n",
      "|Municipal Police|493026|\n",
      "|    State Police| 14235|\n",
      "|   County Police| 22693|\n",
      "|   Tribal Police|    54|\n",
      "+----------------+------+\n",
      "\n"
     ]
    }
   ],
   "source": [
    "atype_count.show()"
   ]
  },
  {
   "cell_type": "code",
   "execution_count": 16,
   "metadata": {},
   "outputs": [],
   "source": [
    "# Count and Percentage \n",
    "view_targ= sqlCtx.sql(\"SELECT Agency_Type, count(*) as TotAgency FROM homicide GROUP BY Agency_Type\")\n",
    "view_targ.createOrReplaceTempView(\"view_targ\")"
   ]
  },
  {
   "cell_type": "code",
   "execution_count": 17,
   "metadata": {},
   "outputs": [],
   "source": [
    "atype_target = sqlCtx.sql(\"SELECT h.Agency_Type, Crime_Solved, count(*) as Count, count(*)/v.TotAgency as PercCount FROM homicide as h, view_targ as v WHERE v.Agency_Type=h.Agency_Type GROUP BY h.Agency_Type, Crime_Solved, v.TotAgency ORDER BY h.Agency_Type\")"
   ]
  },
  {
   "cell_type": "code",
   "execution_count": 18,
   "metadata": {},
   "outputs": [
    {
     "name": "stdout",
     "output_type": "stream",
     "text": [
      "+----------------+------------+------+-------------------+\n",
      "|     Agency_Type|Crime_Solved| Count|          PercCount|\n",
      "+----------------+------------+------+-------------------+\n",
      "|   County Police|          No|  7533| 0.3319525844974221|\n",
      "|   County Police|         Yes| 15160| 0.6680474155025778|\n",
      "|Municipal Police|         Yes|336009| 0.6815238952915262|\n",
      "|Municipal Police|          No|157017| 0.3184761047084738|\n",
      "| Regional Police|          No|    49|0.20851063829787234|\n",
      "| Regional Police|         Yes|   186| 0.7914893617021277|\n",
      "|         Sheriff|          No| 22328|0.21199749340118873|\n",
      "|         Sheriff|         Yes| 82994| 0.7880025065988112|\n",
      "|  Special Police|         Yes|  2058| 0.7123572170301142|\n",
      "|  Special Police|          No|   831|0.28764278296988577|\n",
      "|    State Police|         Yes| 11715| 0.8229715489989463|\n",
      "|    State Police|          No|  2520|0.17702845100105374|\n",
      "|   Tribal Police|          No|     4|0.07407407407407407|\n",
      "|   Tribal Police|         Yes|    50| 0.9259259259259259|\n",
      "+----------------+------------+------+-------------------+\n",
      "\n"
     ]
    }
   ],
   "source": [
    "atype_target.show()"
   ]
  },
  {
   "cell_type": "markdown",
   "metadata": {},
   "source": [
    "## Agency Code"
   ]
  },
  {
   "cell_type": "code",
   "execution_count": 19,
   "metadata": {},
   "outputs": [],
   "source": [
    "acode = sqlCtx.sql(\"SELECT Agency_Code FROM homicide\")"
   ]
  },
  {
   "cell_type": "code",
   "execution_count": 20,
   "metadata": {},
   "outputs": [
    {
     "data": {
      "text/plain": [
       "12003"
      ]
     },
     "execution_count": 20,
     "metadata": {},
     "output_type": "execute_result"
    }
   ],
   "source": [
    "acode.distinct().count()"
   ]
  },
  {
   "cell_type": "markdown",
   "metadata": {},
   "source": [
    "## Agency Name"
   ]
  },
  {
   "cell_type": "code",
   "execution_count": 21,
   "metadata": {},
   "outputs": [
    {
     "data": {
      "text/plain": [
       "9216"
      ]
     },
     "execution_count": 21,
     "metadata": {},
     "output_type": "execute_result"
    }
   ],
   "source": [
    "aname = sqlCtx.sql(\"SELECT Agency_Name FROM homicide\")\n",
    "aname.distinct().count()"
   ]
  },
  {
   "cell_type": "code",
   "execution_count": 22,
   "metadata": {},
   "outputs": [
    {
     "name": "stdout",
     "output_type": "stream",
     "text": [
      "+-----------+\n",
      "|Agency_Name|\n",
      "+-----------+\n",
      "|  Anchorage|\n",
      "|  Anchorage|\n",
      "|  Anchorage|\n",
      "|  Anchorage|\n",
      "|  Anchorage|\n",
      "|  Anchorage|\n",
      "|  Anchorage|\n",
      "|  Anchorage|\n",
      "|  Anchorage|\n",
      "|  Anchorage|\n",
      "|  Anchorage|\n",
      "|  Anchorage|\n",
      "|  Anchorage|\n",
      "|  Anchorage|\n",
      "|  Anchorage|\n",
      "|  Anchorage|\n",
      "|  Anchorage|\n",
      "|     Juneau|\n",
      "|       Nome|\n",
      "|     Bethel|\n",
      "+-----------+\n",
      "only showing top 20 rows\n",
      "\n"
     ]
    }
   ],
   "source": [
    "aname.show(20)"
   ]
  },
  {
   "cell_type": "code",
   "execution_count": 23,
   "metadata": {},
   "outputs": [],
   "source": [
    "aname = sqlCtx.sql(\"SELECT Agency_Name, Agency_Code FROM homicide GROUP BY Agency_Name, Agency_Code ORDER BY Agency_Name\")"
   ]
  },
  {
   "cell_type": "code",
   "execution_count": 24,
   "metadata": {},
   "outputs": [
    {
     "name": "stdout",
     "output_type": "stream",
     "text": [
      "+-----------------+-----------+\n",
      "|      Agency_Name|Agency_Code|\n",
      "+-----------------+-----------+\n",
      "|        Abbeville|    SC00101|\n",
      "|        Abbeville|    LA05701|\n",
      "|        Abbeville|    SC00100|\n",
      "|        Abbeville|    AL03701|\n",
      "| Abbeville County|    SC00100|\n",
      "|         Aberdeen|    OH00801|\n",
      "|         Aberdeen|    WA01401|\n",
      "|         Aberdeen|    SD00601|\n",
      "|         Aberdeen|    MD01301|\n",
      "|         Aberdeen|    MS04801|\n",
      "|         Aberdeen|    NC06301|\n",
      "|         Aberdeen|    ID00601|\n",
      "|Aberdeen Township|    NJ01330|\n",
      "|        Abernathy|    TX09501|\n",
      "|          Abilene|    TX22101|\n",
      "|          Abilene|    KS02101|\n",
      "|         Abingdon|    IL04801|\n",
      "|         Abingdon|    VA09401|\n",
      "|         Abington|    MA01201|\n",
      "|Abington Township|    PA04601|\n",
      "+-----------------+-----------+\n",
      "only showing top 20 rows\n",
      "\n"
     ]
    }
   ],
   "source": [
    "# Same Agency_Name with different Agency_Code\n",
    "# Agency_Code is unique\n",
    "aname.show()"
   ]
  },
  {
   "cell_type": "markdown",
   "metadata": {},
   "source": [
    "## Year"
   ]
  },
  {
   "cell_type": "code",
   "execution_count": 25,
   "metadata": {},
   "outputs": [],
   "source": [
    "year= sqlCtx.sql(\"SELECT Year FROM homicide\")"
   ]
  },
  {
   "cell_type": "code",
   "execution_count": 26,
   "metadata": {},
   "outputs": [
    {
     "name": "stdout",
     "output_type": "stream",
     "text": [
      "+-------+-----------------+\n",
      "|summary|             Year|\n",
      "+-------+-----------------+\n",
      "|  count|           638454|\n",
      "|   mean|1995.801102350365|\n",
      "| stddev|9.927693313985529|\n",
      "|    min|             1980|\n",
      "|    max|             2014|\n",
      "+-------+-----------------+\n",
      "\n"
     ]
    }
   ],
   "source": [
    "year.describe().show()"
   ]
  },
  {
   "cell_type": "code",
   "execution_count": 27,
   "metadata": {},
   "outputs": [
    {
     "data": {
      "text/plain": [
       "35"
      ]
     },
     "execution_count": 27,
     "metadata": {},
     "output_type": "execute_result"
    }
   ],
   "source": [
    "year.distinct().count()"
   ]
  },
  {
   "cell_type": "code",
   "execution_count": 28,
   "metadata": {},
   "outputs": [
    {
     "name": "stdout",
     "output_type": "stream",
     "text": [
      "+----+-----+\n",
      "|Year|Count|\n",
      "+----+-----+\n",
      "|1980|23092|\n",
      "|1981|21208|\n",
      "|1982|20544|\n",
      "|1983|19653|\n",
      "|1984|18093|\n",
      "|1985|18386|\n",
      "|1986|20125|\n",
      "|1987|18783|\n",
      "|1988|18779|\n",
      "|1989|19868|\n",
      "|1990|21246|\n",
      "|1991|22657|\n",
      "|1992|23793|\n",
      "|1993|24335|\n",
      "|1994|23246|\n",
      "|1995|21179|\n",
      "|1996|18969|\n",
      "|1997|17794|\n",
      "|1998|16061|\n",
      "|1999|14621|\n",
      "|2000|14671|\n",
      "|2001|15803|\n",
      "|2002|16268|\n",
      "|2003|16512|\n",
      "|2004|16233|\n",
      "|2005|16836|\n",
      "|2006|17275|\n",
      "|2007|17303|\n",
      "|2008|15595|\n",
      "|2009|15840|\n",
      "|2010|15121|\n",
      "|2011|14756|\n",
      "|2012|15033|\n",
      "|2013|14445|\n",
      "|2014|14331|\n",
      "+----+-----+\n",
      "\n"
     ]
    }
   ],
   "source": [
    "year_count = sqlCtx.sql(\"SELECT Year, count(*) as Count FROM homicide GROUP BY Year ORDER BY Year\")\n",
    "year_count.show(35)"
   ]
  },
  {
   "cell_type": "markdown",
   "metadata": {},
   "source": [
    "## Month"
   ]
  },
  {
   "cell_type": "code",
   "execution_count": 29,
   "metadata": {},
   "outputs": [],
   "source": [
    "month= sqlCtx.sql(\"SELECT Month FROM homicide\")"
   ]
  },
  {
   "cell_type": "code",
   "execution_count": 30,
   "metadata": {},
   "outputs": [
    {
     "name": "stdout",
     "output_type": "stream",
     "text": [
      "+---------+-----+\n",
      "|    Month|Count|\n",
      "+---------+-----+\n",
      "|     July|58696|\n",
      "| November|50016|\n",
      "| February|46079|\n",
      "|  January|52928|\n",
      "|    March|51444|\n",
      "|  October|53650|\n",
      "|      May|53394|\n",
      "|   August|58072|\n",
      "|    April|51209|\n",
      "|     June|53662|\n",
      "| December|55187|\n",
      "|September|54117|\n",
      "+---------+-----+\n",
      "\n"
     ]
    }
   ],
   "source": [
    "month_count = sqlCtx.sql(\"SELECT Month, count(*) as Count FROM homicide GROUP BY Month\")\n",
    "month_count.show()"
   ]
  },
  {
   "cell_type": "code",
   "execution_count": 31,
   "metadata": {},
   "outputs": [
    {
     "name": "stdout",
     "output_type": "stream",
     "text": [
      "+--------+------------+-----+-------------------+\n",
      "|   Month|Crime_Solved|Count|          PercCount|\n",
      "+--------+------------+-----+-------------------+\n",
      "|   April|         Yes|36613| 0.7149719775820657|\n",
      "|   April|          No|14596|0.28502802241793435|\n",
      "|  August|         Yes|40805|  0.702662212425954|\n",
      "|  August|          No|17267|  0.297337787574046|\n",
      "|December|          No|17958|0.32540272165546236|\n",
      "|December|         Yes|37229| 0.6745972783445376|\n",
      "|February|          No|12821|0.27823954512901755|\n",
      "|February|         Yes|33258| 0.7217604548709824|\n",
      "| January|         Yes|37951| 0.7170306831922612|\n",
      "| January|          No|14977| 0.2829693168077388|\n",
      "|    July|         Yes|41468|   0.70648766525828|\n",
      "|    July|          No|17228|0.29351233474172006|\n",
      "|    June|          No|15845|0.29527412321568336|\n",
      "|    June|         Yes|37817| 0.7047258767843166|\n",
      "|   March|          No|14804| 0.2877692247881191|\n",
      "|   March|         Yes|36640| 0.7122307752118808|\n",
      "|     May|          No|15543| 0.2911001236093943|\n",
      "|     May|         Yes|37851| 0.7088998763906057|\n",
      "|November|         Yes|33840| 0.6765834932821497|\n",
      "|November|          No|16176|0.32341650671785027|\n",
      "+--------+------------+-----+-------------------+\n",
      "only showing top 20 rows\n",
      "\n"
     ]
    }
   ],
   "source": [
    "# Crime Solved distribution\n",
    "view_targ= sqlCtx.sql(\"SELECT Month, count(*) as Tot FROM homicide GROUP BY Month\")\n",
    "view_targ.createOrReplaceTempView(\"view_targ\")\n",
    "target = sqlCtx.sql(\"SELECT h.Month, Crime_Solved, count(*) as Count, count(*)/v.Tot as PercCount FROM homicide as h, view_targ as v WHERE v.Month=h.Month GROUP BY h.Month, Crime_Solved, v.Tot ORDER BY h.Month\")\n",
    "target.show()"
   ]
  },
  {
   "cell_type": "code",
   "execution_count": 32,
   "metadata": {},
   "outputs": [
    {
     "name": "stdout",
     "output_type": "stream",
     "text": [
      "+----+---------+-----+\n",
      "|Year|    Month|Count|\n",
      "+----+---------+-----+\n",
      "|1980| February| 1730|\n",
      "|1980|    March| 1743|\n",
      "|1980|    April| 1760|\n",
      "|1980|  January| 1825|\n",
      "|1980| November| 1861|\n",
      "|1980|      May| 1863|\n",
      "|1980|September| 1869|\n",
      "|1980|  October| 1935|\n",
      "|1980| December| 1965|\n",
      "|1980|     June| 1991|\n",
      "|1980|     July| 2179|\n",
      "|1980|   August| 2371|\n",
      "|1981| December| 1533|\n",
      "|1981| November| 1615|\n",
      "|1981|  October| 1648|\n",
      "|1981|September| 1659|\n",
      "|1981|     June| 1714|\n",
      "|1981|    April| 1771|\n",
      "|1981| February| 1777|\n",
      "|1981|   August| 1804|\n",
      "+----+---------+-----+\n",
      "only showing top 20 rows\n",
      "\n"
     ]
    }
   ],
   "source": [
    "# Year and Month\n",
    "year_month= sqlCtx.sql(\"SELECT Year, Month, count(*) as Count FROM homicide GROUP BY Year,Month ORDER BY Year, Count(*)\")\n",
    "year_month.show()"
   ]
  },
  {
   "cell_type": "markdown",
   "metadata": {},
   "source": [
    "## City"
   ]
  },
  {
   "cell_type": "code",
   "execution_count": 33,
   "metadata": {},
   "outputs": [],
   "source": [
    "city= sqlCtx.sql(\"SELECT City FROM homicide\")"
   ]
  },
  {
   "cell_type": "code",
   "execution_count": 34,
   "metadata": {},
   "outputs": [
    {
     "name": "stdout",
     "output_type": "stream",
     "text": [
      "+--------------+---------+-----+\n",
      "|         State|     City|Count|\n",
      "+--------------+---------+-----+\n",
      "|South Carolina|Abbeville|   59|\n",
      "|     Louisiana|   Acadia|   98|\n",
      "|      Virginia| Accomack|   80|\n",
      "|         Idaho|      Ada|  211|\n",
      "|          Iowa|    Adair|    2|\n",
      "|      Oklahoma|    Adair|   56|\n",
      "|      Kentucky|    Adair|   58|\n",
      "|      Missouri|    Adair|   14|\n",
      "|         Idaho|    Adams|    3|\n",
      "|    Washington|    Adams|   32|\n",
      "|  North Dakota|    Adams|    2|\n",
      "|          Iowa|    Adams|    5|\n",
      "|   Mississippi|    Adams|  126|\n",
      "|      Colorado|    Adams|  464|\n",
      "|       Indiana|    Adams|    3|\n",
      "|      Nebraska|    Adams|   18|\n",
      "|          Ohio|    Adams|   12|\n",
      "|      Illinois|    Adams|   27|\n",
      "|  Pennsylvania|    Adams|   67|\n",
      "|     Wisconsin|    Adams|   15|\n",
      "+--------------+---------+-----+\n",
      "only showing top 20 rows\n",
      "\n"
     ]
    }
   ],
   "source": [
    "# City e State\n",
    "# City is not unique\n",
    "city_state= sqlCtx.sql(\"SELECT State,City, count(*) as Count FROM homicide GROUP BY City,State ORDER BY City\")\n",
    "city_state.show()"
   ]
  },
  {
   "cell_type": "markdown",
   "metadata": {},
   "source": [
    "## State"
   ]
  },
  {
   "cell_type": "code",
   "execution_count": 35,
   "metadata": {},
   "outputs": [],
   "source": [
    "state= sqlCtx.sql(\"SELECT State FROM homicide\")"
   ]
  },
  {
   "cell_type": "code",
   "execution_count": 36,
   "metadata": {},
   "outputs": [
    {
     "name": "stdout",
     "output_type": "stream",
     "text": [
      "+--------------------+------------+-----+-------------------+\n",
      "|               State|Crime_Solved|Count|          PercCount|\n",
      "+--------------------+------------+-----+-------------------+\n",
      "|             Alabama|          No| 2400| 0.2109704641350211|\n",
      "|             Alabama|         Yes| 8976| 0.7890295358649789|\n",
      "|              Alaska|          No|  297| 0.1836734693877551|\n",
      "|              Alaska|         Yes| 1320| 0.8163265306122449|\n",
      "|             Arizona|          No| 3643| 0.2830393908787196|\n",
      "|             Arizona|         Yes| 9228| 0.7169606091212803|\n",
      "|            Arkansas|         Yes| 5842| 0.8409385346192602|\n",
      "|            Arkansas|          No| 1105| 0.1590614653807399|\n",
      "|          California|          No|36369| 0.3644809236042212|\n",
      "|          California|         Yes|63414| 0.6355190763957789|\n",
      "|            Colorado|          No| 1329|0.20157743060822084|\n",
      "|            Colorado|         Yes| 5264| 0.7984225693917791|\n",
      "|         Connecticut|          No| 1637|0.33435457516339867|\n",
      "|         Connecticut|         Yes| 3259| 0.6656454248366013|\n",
      "|            Delaware|          No|  233|0.19762510602205258|\n",
      "|            Delaware|         Yes|  946| 0.8023748939779474|\n",
      "|District of Columbia|         Yes| 2441|0.34307800421644413|\n",
      "|District of Columbia|          No| 4674| 0.6569219957835559|\n",
      "|             Florida|         Yes|26517| 0.7135130771714563|\n",
      "|             Florida|          No|10647|0.28648692282854377|\n",
      "|             Georgia|         Yes|15240| 0.7226858877086495|\n",
      "|             Georgia|          No| 5848|0.27731411229135056|\n",
      "|              Hawaii|          No|  290|0.21674140508221226|\n",
      "|              Hawaii|         Yes| 1048| 0.7832585949177877|\n",
      "|               Idaho|         Yes| 1040| 0.9043478260869565|\n",
      "|               Idaho|          No|  110|0.09565217391304348|\n",
      "|            Illinois|         Yes|15845| 0.6124618298480925|\n",
      "|            Illinois|          No|10026|0.38753817015190756|\n",
      "|             Indiana|          No| 3692|0.32207973479891827|\n",
      "|             Indiana|         Yes| 7771| 0.6779202652010817|\n",
      "|                Iowa|         Yes| 1524| 0.8713550600343053|\n",
      "|                Iowa|          No|  225|0.12864493996569468|\n",
      "|              Kansas|          No|  598|0.19384116693679093|\n",
      "|              Kansas|         Yes| 2487| 0.8061588330632091|\n",
      "|            Kentucky|         Yes| 5031|  0.767622825755264|\n",
      "|            Kentucky|          No| 1523|0.23237717424473603|\n",
      "|           Louisiana|         Yes|13582|  0.691935401701564|\n",
      "|           Louisiana|          No| 6047|0.30806459829843597|\n",
      "|               Maine|          No|   92|0.10586881472957423|\n",
      "|               Maine|         Yes|  777| 0.8941311852704258|\n",
      "|            Maryland|         Yes|10308| 0.5954251386321626|\n",
      "|            Maryland|          No| 7004| 0.4045748613678373|\n",
      "|       Massachusetts|         Yes| 3828| 0.6341948310139165|\n",
      "|       Massachusetts|          No| 2208| 0.3658051689860835|\n",
      "|            Michigan|          No| 9434|0.33162260967379076|\n",
      "|            Michigan|         Yes|19014| 0.6683773903262092|\n",
      "|           Minnesota|          No|  697|0.17534591194968555|\n",
      "|           Minnesota|         Yes| 3278| 0.8246540880503145|\n",
      "|         Mississippi|         Yes| 5501| 0.8403605255117629|\n",
      "|         Mississippi|          No| 1045| 0.1596394744882371|\n",
      "|            Missouri|          No| 5357| 0.3611785329018339|\n",
      "+--------------------+------------+-----+-------------------+\n",
      "only showing top 51 rows\n",
      "\n"
     ]
    }
   ],
   "source": [
    "view_targ= sqlCtx.sql(\"SELECT State, count(*) as Tot FROM homicide GROUP BY State\")\n",
    "view_targ.createOrReplaceTempView(\"view_targ\")\n",
    "target = sqlCtx.sql(\"SELECT h.State, Crime_Solved, count(*) as Count, count(*)/v.Tot as PercCount FROM homicide as h, view_targ as v WHERE v.State=h.State GROUP BY h.State, Crime_Solved, v.Tot ORDER BY h.State\")\n",
    "target.show(51)"
   ]
  },
  {
   "cell_type": "markdown",
   "metadata": {},
   "source": [
    "## Crime Type"
   ]
  },
  {
   "cell_type": "code",
   "execution_count": 37,
   "metadata": {},
   "outputs": [
    {
     "name": "stdout",
     "output_type": "stream",
     "text": [
      "+--------------------------+\n",
      "|Crime_Type                |\n",
      "+--------------------------+\n",
      "|Manslaughter by Negligence|\n",
      "|Murder or Manslaughter    |\n",
      "+--------------------------+\n",
      "\n"
     ]
    }
   ],
   "source": [
    "c_type= sqlCtx.sql(\"SELECT Crime_Type FROM homicide\")\n",
    "c_type.distinct().show(2,False)"
   ]
  },
  {
   "cell_type": "code",
   "execution_count": 38,
   "metadata": {},
   "outputs": [
    {
     "name": "stdout",
     "output_type": "stream",
     "text": [
      "+--------------------+------+\n",
      "|          Crime_Type| Count|\n",
      "+--------------------+------+\n",
      "|Manslaughter by N...|  9116|\n",
      "|Murder or Manslau...|629338|\n",
      "+--------------------+------+\n",
      "\n"
     ]
    }
   ],
   "source": [
    "type_count = sqlCtx.sql(\"SELECT Crime_Type, count(*) as Count FROM homicide GROUP BY Crime_Type\")\n",
    "type_count.show()"
   ]
  },
  {
   "cell_type": "markdown",
   "metadata": {},
   "source": [
    "## Crime Solved"
   ]
  },
  {
   "cell_type": "code",
   "execution_count": 39,
   "metadata": {},
   "outputs": [
    {
     "name": "stdout",
     "output_type": "stream",
     "text": [
      "+------------+\n",
      "|Crime_Solved|\n",
      "+------------+\n",
      "|No          |\n",
      "|Yes         |\n",
      "+------------+\n",
      "\n"
     ]
    }
   ],
   "source": [
    "c_solved= sqlCtx.sql(\"SELECT Crime_Solved FROM homicide\")\n",
    "c_solved.distinct().show(2,False)"
   ]
  },
  {
   "cell_type": "code",
   "execution_count": 40,
   "metadata": {},
   "outputs": [
    {
     "name": "stdout",
     "output_type": "stream",
     "text": [
      "+------------+------+\n",
      "|Crime_Solved| Count|\n",
      "+------------+------+\n",
      "|          No|190282|\n",
      "|         Yes|448172|\n",
      "+------------+------+\n",
      "\n"
     ]
    }
   ],
   "source": [
    "solved_count = sqlCtx.sql(\"SELECT Crime_Solved, count(*) as Count FROM homicide GROUP BY Crime_Solved\")\n",
    "solved_count.show()"
   ]
  },
  {
   "cell_type": "markdown",
   "metadata": {},
   "source": [
    "## Victim e Perpetrator attributes"
   ]
  },
  {
   "cell_type": "code",
   "execution_count": 41,
   "metadata": {},
   "outputs": [
    {
     "name": "stdout",
     "output_type": "stream",
     "text": [
      "Victim_Sex\n",
      "+----------+------+\n",
      "|Victim_Sex| Count|\n",
      "+----------+------+\n",
      "|    Female|143345|\n",
      "|   Unknown|   984|\n",
      "|      Male|494125|\n",
      "+----------+------+\n",
      "\n",
      "+----------+------------+------+-------------------+\n",
      "|Victim_Sex|Crime_Solved| Count|          PercCount|\n",
      "+----------+------------+------+-------------------+\n",
      "|    Female|          No| 33076|0.23074400920855279|\n",
      "|    Female|         Yes|110269| 0.7692559907914472|\n",
      "|      Male|          No|156553|0.31682873766759423|\n",
      "|      Male|         Yes|337572| 0.6831712623324058|\n",
      "|   Unknown|          No|   653| 0.6636178861788617|\n",
      "|   Unknown|         Yes|   331| 0.3363821138211382|\n",
      "+----------+------------+------+-------------------+\n",
      "\n",
      "Victim_Age\n",
      "+----------+-----+\n",
      "|Victim_Age|Count|\n",
      "+----------+-----+\n",
      "|        31|15762|\n",
      "|        85|  627|\n",
      "|        65| 2418|\n",
      "|        53| 4788|\n",
      "|        78| 1102|\n",
      "|        34|14296|\n",
      "|        81|  930|\n",
      "|        28|18199|\n",
      "|        76| 1213|\n",
      "|        27|19465|\n",
      "|        26|20469|\n",
      "|        44| 7921|\n",
      "|        12| 1239|\n",
      "|        91|  215|\n",
      "|        22|23049|\n",
      "|        93|  134|\n",
      "|        47| 6902|\n",
      "|         1| 5525|\n",
      "|        52| 5203|\n",
      "|        13| 1897|\n",
      "+----------+-----+\n",
      "only showing top 20 rows\n",
      "\n",
      "+----------+------------+-----+-------------------+\n",
      "|Victim_Age|Crime_Solved|Count|          PercCount|\n",
      "+----------+------------+-----+-------------------+\n",
      "|         0|         Yes| 7419| 0.8786120322122217|\n",
      "|         0|          No| 1025| 0.1213879677877783|\n",
      "|         1|         Yes| 5005| 0.9058823529411765|\n",
      "|         1|          No|  520|0.09411764705882353|\n",
      "|         2|          No|  320|0.08409986859395532|\n",
      "|         2|         Yes| 3485| 0.9159001314060446|\n",
      "|         3|         Yes| 2156| 0.9066442388561816|\n",
      "|         3|          No|  222|0.09335576114381834|\n",
      "|         4|         Yes| 1488| 0.8969258589511754|\n",
      "|         4|          No|  171|0.10307414104882459|\n",
      "|         5|         Yes| 1067| 0.8936348408710217|\n",
      "|         5|          No|  127|0.10636515912897822|\n",
      "|         6|         Yes|  885| 0.8858858858858859|\n",
      "|         6|          No|  114|0.11411411411411411|\n",
      "|         7|         Yes|  794| 0.8677595628415301|\n",
      "|         7|          No|  121|0.13224043715846995|\n",
      "|         8|          No|  126|0.14788732394366197|\n",
      "|         8|         Yes|  726|  0.852112676056338|\n",
      "|         9|          No|  114| 0.1366906474820144|\n",
      "|         9|         Yes|  720| 0.8633093525179856|\n",
      "+----------+------------+-----+-------------------+\n",
      "only showing top 20 rows\n",
      "\n",
      "Victim_Race\n",
      "+--------------------+------+\n",
      "|         Victim_Race| Count|\n",
      "+--------------------+------+\n",
      "|Asian/Pacific Isl...|  9890|\n",
      "|             Unknown|  6676|\n",
      "|Native American/A...|  4567|\n",
      "|               White|317422|\n",
      "|               Black|299899|\n",
      "+--------------------+------+\n",
      "\n",
      "+--------------------+------------+------+-------------------+\n",
      "|         Victim_Race|Crime_Solved| Count|          PercCount|\n",
      "+--------------------+------------+------+-------------------+\n",
      "|Asian/Pacific Isl...|         Yes|  6973| 0.7050556117290192|\n",
      "|Asian/Pacific Isl...|          No|  2917| 0.2949443882709808|\n",
      "|               Black|         Yes|198774| 0.6628031437250541|\n",
      "|               Black|          No|101125| 0.3371968562749459|\n",
      "|Native American/A...|         Yes|  3647| 0.7985548500109481|\n",
      "|Native American/A...|          No|   920|0.20144514998905189|\n",
      "|             Unknown|          No|  3084|0.46195326542840026|\n",
      "|             Unknown|         Yes|  3592| 0.5380467345715998|\n",
      "|               White|          No| 82236|0.25907467031270676|\n",
      "|               White|         Yes|235186| 0.7409253296872933|\n",
      "+--------------------+------------+------+-------------------+\n",
      "\n",
      "Victim_Ethnicity\n",
      "+----------------+------+\n",
      "|Victim_Ethnicity| Count|\n",
      "+----------------+------+\n",
      "|    Not Hispanic|197499|\n",
      "|         Unknown|368303|\n",
      "|        Hispanic| 72652|\n",
      "+----------------+------+\n",
      "\n",
      "+----------------+------------+------+------------------+\n",
      "|Victim_Ethnicity|Crime_Solved| Count|         PercCount|\n",
      "+----------------+------------+------+------------------+\n",
      "|        Hispanic|          No| 25092| 0.345372460496614|\n",
      "|        Hispanic|         Yes| 47560| 0.654627539503386|\n",
      "|    Not Hispanic|         Yes|145580|0.7371176562919306|\n",
      "|    Not Hispanic|          No| 51919|0.2628823437080694|\n",
      "|         Unknown|         Yes|255032|0.6924515955612635|\n",
      "|         Unknown|          No|113271|0.3075484044387366|\n",
      "+----------------+------------+------+------------------+\n",
      "\n",
      "Perpetrator_Sex\n",
      "+---------------+------+\n",
      "|Perpetrator_Sex| Count|\n",
      "+---------------+------+\n",
      "|         Female| 48548|\n",
      "|        Unknown|190365|\n",
      "|           Male|399541|\n",
      "+---------------+------+\n",
      "\n",
      "+---------------+------------+------+--------------------+\n",
      "|Perpetrator_Sex|Crime_Solved| Count|           PercCount|\n",
      "+---------------+------------+------+--------------------+\n",
      "|         Female|          No|     5|1.029908544121282...|\n",
      "|         Female|         Yes| 48543|  0.9998970091455879|\n",
      "|           Male|          No|    59|1.476694506946721...|\n",
      "|           Male|         Yes|399482|  0.9998523305493053|\n",
      "|        Unknown|         Yes|   147|7.722007722007722E-4|\n",
      "|        Unknown|          No|190218|  0.9992277992277993|\n",
      "+---------------+------------+------+--------------------+\n",
      "\n",
      "Perpetrator_Age\n",
      "+---------------+-----+\n",
      "|Perpetrator_Age|Count|\n",
      "+---------------+-----+\n",
      "|              7|   48|\n",
      "|             51| 2980|\n",
      "|             15| 5441|\n",
      "|             54| 2320|\n",
      "|             11|  227|\n",
      "|             29|12468|\n",
      "|             69|  628|\n",
      "|             42| 5865|\n",
      "|             73|  472|\n",
      "|             87|  113|\n",
      "|             64| 1040|\n",
      "|              3|   24|\n",
      "|             30|13611|\n",
      "|             34| 9319|\n",
      "|             59| 1557|\n",
      "|              8|   62|\n",
      "|             28|13478|\n",
      "|             22|18433|\n",
      "|             85|  139|\n",
      "|             35| 9693|\n",
      "+---------------+-----+\n",
      "only showing top 20 rows\n",
      "\n",
      "+---------------+------------+------+--------------------+\n",
      "|Perpetrator_Age|Crime_Solved| Count|           PercCount|\n",
      "+---------------+------------+------+--------------------+\n",
      "|               |          No|     1|                 1.0|\n",
      "|              0|          No|189627|  0.8765757395054709|\n",
      "|              0|         Yes| 26700| 0.12342426049452912|\n",
      "|              1|          No|    18|  0.5294117647058824|\n",
      "|              1|         Yes|    16| 0.47058823529411764|\n",
      "|             10|         Yes|   145|                 1.0|\n",
      "|             11|          No|     2| 0.00881057268722467|\n",
      "|             11|         Yes|   225|  0.9911894273127754|\n",
      "|             12|          No|     3|0.006160164271047228|\n",
      "|             12|         Yes|   484|  0.9938398357289527|\n",
      "|             13|         Yes|  1108|  0.9990982867448152|\n",
      "|             13|          No|     1|9.017132551848512E-4|\n",
      "|             14|          No|     1|3.895597974289053...|\n",
      "|             14|         Yes|  2566|  0.9996104402025711|\n",
      "|             15|          No|    17|0.003124425657048337|\n",
      "|             15|         Yes|  5424|  0.9968755743429517|\n",
      "|             16|          No|    23|0.002440836251724...|\n",
      "|             16|         Yes|  9400|  0.9975591637482755|\n",
      "|             17|         Yes| 14185|  0.9992251338405185|\n",
      "|             17|          No|    11|7.748661594815441E-4|\n",
      "+---------------+------------+------+--------------------+\n",
      "only showing top 20 rows\n",
      "\n",
      "Perpetrator_Race\n",
      "+--------------------+------+\n",
      "|    Perpetrator_Race| Count|\n",
      "+--------------------+------+\n",
      "|Asian/Pacific Isl...|  6046|\n",
      "|             Unknown|196047|\n",
      "|Native American/A...|  3602|\n",
      "|               White|218243|\n",
      "|               Black|214516|\n",
      "+--------------------+------+\n",
      "\n",
      "+--------------------+------------+------+--------------------+\n",
      "|    Perpetrator_Race|Crime_Solved| Count|           PercCount|\n",
      "+--------------------+------------+------+--------------------+\n",
      "|Asian/Pacific Isl...|          No|    20|0.003307972213033...|\n",
      "|Asian/Pacific Isl...|         Yes|  6026|  0.9966920277869666|\n",
      "|               Black|         Yes|214344|   0.999198195006433|\n",
      "|               Black|          No|   172|8.018049935669135E-4|\n",
      "|Native American/A...|         Yes|  3595|  0.9980566352026652|\n",
      "|Native American/A...|          No|     7|0.001943364797334814|\n",
      "|             Unknown|         Yes|  6049|  0.0308548460318189|\n",
      "|             Unknown|          No|189998|  0.9691451539681811|\n",
      "|               White|          No|    85|3.894741182993269E-4|\n",
      "|               White|         Yes|218158|  0.9996105258817006|\n",
      "+--------------------+------------+------+--------------------+\n",
      "\n",
      "Perpetrator_Ethnicity\n"
     ]
    },
    {
     "name": "stdout",
     "output_type": "stream",
     "text": [
      "+---------------------+------+\n",
      "|Perpetrator_Ethnicity| Count|\n",
      "+---------------------+------+\n",
      "|         Not Hispanic|145172|\n",
      "|              Unknown|446410|\n",
      "|             Hispanic| 46872|\n",
      "+---------------------+------+\n",
      "\n",
      "+---------------------+------------+------+--------------------+\n",
      "|Perpetrator_Ethnicity|Crime_Solved| Count|           PercCount|\n",
      "+---------------------+------------+------+--------------------+\n",
      "|             Hispanic|         Yes| 46852|  0.9995733060249189|\n",
      "|             Hispanic|          No|    20|4.266939750810718...|\n",
      "|         Not Hispanic|          No|   226|0.001556774033560...|\n",
      "|         Not Hispanic|         Yes|144946|  0.9984432259664399|\n",
      "|              Unknown|          No|190036| 0.42569834905132053|\n",
      "|              Unknown|         Yes|256374|  0.5743016509486795|\n",
      "+---------------------+------------+------+--------------------+\n",
      "\n"
     ]
    }
   ],
   "source": [
    "for col in df.columns:\n",
    "    if (\"Victim\" in col) | (\"Perpetrator\" in col):\n",
    "        print(col)\n",
    "        vict= sqlCtx.sql(\"SELECT \" +col+\" FROM homicide\")\n",
    "        v_count = sqlCtx.sql(\"SELECT \"+col+\", count(*) as Count FROM homicide GROUP BY \"+col)\n",
    "        v_count.show()\n",
    "        view_targ= sqlCtx.sql(\"SELECT \"+col+\", count(*) as Tot FROM homicide GROUP BY \"+col)\n",
    "        view_targ.createOrReplaceTempView(\"view_targ\")\n",
    "        target = sqlCtx.sql(\"SELECT h.\"+col+\", Crime_Solved, count(*) as Count, count(*)/v.Tot as PercCount FROM homicide as h, view_targ as v WHERE v.\"+col+\"=h.\"+col+\" GROUP BY h.\"+col+\", Crime_Solved, v.Tot ORDER BY \"+col)\n",
    "        target.show()\n",
    "        "
   ]
  },
  {
   "cell_type": "code",
   "execution_count": 42,
   "metadata": {},
   "outputs": [
    {
     "name": "stdout",
     "output_type": "stream",
     "text": [
      "+--------------------+----------------+--------+\n",
      "|         Victim_Race|Victim_Ethnicity|count(1)|\n",
      "+--------------------+----------------+--------+\n",
      "|Asian/Pacific Isl...|        Hispanic|      52|\n",
      "|Asian/Pacific Isl...|    Not Hispanic|    5568|\n",
      "|Asian/Pacific Isl...|         Unknown|    4270|\n",
      "|               Black|        Hispanic|    1213|\n",
      "|               Black|    Not Hispanic|  100973|\n",
      "|               Black|         Unknown|  197713|\n",
      "|Native American/A...|        Hispanic|      11|\n",
      "|Native American/A...|    Not Hispanic|    2010|\n",
      "|Native American/A...|         Unknown|    2546|\n",
      "|             Unknown|        Hispanic|     177|\n",
      "|             Unknown|    Not Hispanic|     170|\n",
      "|             Unknown|         Unknown|    6329|\n",
      "|               White|        Hispanic|   71199|\n",
      "|               White|    Not Hispanic|   88778|\n",
      "|               White|         Unknown|  157445|\n",
      "+--------------------+----------------+--------+\n",
      "\n"
     ]
    }
   ],
   "source": [
    "# Victim_Race and Victim_Ethnicity\n",
    "v_race= sqlCtx.sql(\"SELECT Victim_Race, Victim_Ethnicity, count(*) FROM homicide GROUP BY Victim_Race, Victim_Ethnicity ORDER BY Victim_Race, Victim_Ethnicity\")\n",
    "v_race.show()"
   ]
  },
  {
   "cell_type": "code",
   "execution_count": 43,
   "metadata": {},
   "outputs": [
    {
     "name": "stdout",
     "output_type": "stream",
     "text": [
      "+--------------------+---------------------+--------+\n",
      "|    Perpetrator_Race|Perpetrator_Ethnicity|count(1)|\n",
      "+--------------------+---------------------+--------+\n",
      "|Asian/Pacific Isl...|             Hispanic|      48|\n",
      "|Asian/Pacific Isl...|         Not Hispanic|    3316|\n",
      "|Asian/Pacific Isl...|              Unknown|    2682|\n",
      "|               Black|             Hispanic|     875|\n",
      "|               Black|         Not Hispanic|   75704|\n",
      "|               Black|              Unknown|  137937|\n",
      "|Native American/A...|             Hispanic|      17|\n",
      "|Native American/A...|         Not Hispanic|    1542|\n",
      "|Native American/A...|              Unknown|    2043|\n",
      "|             Unknown|             Hispanic|     165|\n",
      "|             Unknown|         Not Hispanic|     404|\n",
      "|             Unknown|              Unknown|  195478|\n",
      "|               White|             Hispanic|   45767|\n",
      "|               White|         Not Hispanic|   64206|\n",
      "|               White|              Unknown|  108270|\n",
      "+--------------------+---------------------+--------+\n",
      "\n"
     ]
    }
   ],
   "source": [
    "# Perp_Race and Perp_Ethnicity\n",
    "p_race= sqlCtx.sql(\"SELECT Perpetrator_Race, Perpetrator_Ethnicity, count(*) FROM homicide GROUP BY Perpetrator_Race, Perpetrator_Ethnicity ORDER BY Perpetrator_Race, Perpetrator_Ethnicity\")\n",
    "p_race.show()"
   ]
  },
  {
   "cell_type": "code",
   "execution_count": 44,
   "metadata": {},
   "outputs": [],
   "source": [
    "v_age= sqlCtx.sql(\"SELECT Victim_Age FROM homicide\")\n",
    "p_age= sqlCtx.sql(\"SELECT Perpetrator_Age FROM homicide ORDER BY Perpetrator_Age\")"
   ]
  },
  {
   "cell_type": "code",
   "execution_count": 45,
   "metadata": {},
   "outputs": [
    {
     "name": "stdout",
     "output_type": "stream",
     "text": [
      "+-------+-----------------+\n",
      "|summary|       Victim_Age|\n",
      "+-------+-----------------+\n",
      "|  count|           638454|\n",
      "|   mean|35.03351220291517|\n",
      "| stddev| 41.6283059837085|\n",
      "|    min|                0|\n",
      "|    max|              998|\n",
      "+-------+-----------------+\n",
      "\n"
     ]
    }
   ],
   "source": [
    "v_age.describe().show()"
   ]
  },
  {
   "cell_type": "code",
   "execution_count": 46,
   "metadata": {},
   "outputs": [
    {
     "name": "stdout",
     "output_type": "stream",
     "text": [
      "+----------+-----+\n",
      "|Victim_Age|count|\n",
      "+----------+-----+\n",
      "|        90|  281|\n",
      "|        91|  215|\n",
      "|        92|  156|\n",
      "|        93|  134|\n",
      "|        94|  116|\n",
      "|        95|   82|\n",
      "|        96|   37|\n",
      "|        97|   39|\n",
      "|        98|   33|\n",
      "|        99| 9281|\n",
      "|       998|  974|\n",
      "+----------+-----+\n",
      "\n"
     ]
    }
   ],
   "source": [
    "# Victim_Age outliers\n",
    "v_out=sqlCtx.sql(\"SELECT Victim_Age, count(*) as count FROM homicide WHERE Victim_Age>=90 GROUP BY Victim_Age ORDER BY Victim_Age\")\n",
    "v_out.show()"
   ]
  },
  {
   "cell_type": "code",
   "execution_count": 47,
   "metadata": {},
   "outputs": [
    {
     "name": "stdout",
     "output_type": "stream",
     "text": [
      "+----------+--------------------+-----+\n",
      "|Victim_Age|        Relationship|count|\n",
      "+----------+--------------------+-----+\n",
      "|        99|            Employee|    5|\n",
      "|        99|            Employer|    3|\n",
      "|        99|           Boyfriend|   39|\n",
      "|        99|        Acquaintance| 1071|\n",
      "|        99|              Friend|  156|\n",
      "|        99|     Common-Law Wife|   25|\n",
      "|        99|             Stepson|    5|\n",
      "|        99|              Family|  102|\n",
      "|        99|          Ex-Husband|    6|\n",
      "|        99|             Husband|   52|\n",
      "|        99|            Neighbor|   47|\n",
      "|        99|          Stepfather|    5|\n",
      "|        99|        Stepdaughter|    6|\n",
      "|        99|                 Son|  244|\n",
      "|        99|            Daughter|  208|\n",
      "|        99|  Common-Law Husband|   15|\n",
      "|        99|              Mother|   26|\n",
      "|        99|             Brother|   33|\n",
      "|        99|          Stepmother|    1|\n",
      "|        99|Boyfriend/Girlfriend|   10|\n",
      "+----------+--------------------+-----+\n",
      "only showing top 20 rows\n",
      "\n"
     ]
    }
   ],
   "source": [
    "# Analysis Age= 99 and Relationship\n",
    "v_test=sqlCtx.sql(\"SELECT Victim_Age,Relationship, count(*) as count FROM homicide WHERE Victim_Age==99 GROUP BY Victim_Age, Relationship ORDER BY Victim_Age\")\n",
    "v_test.show()"
   ]
  },
  {
   "cell_type": "code",
   "execution_count": 48,
   "metadata": {},
   "outputs": [
    {
     "name": "stdout",
     "output_type": "stream",
     "text": [
      "+-------+------------------+\n",
      "|summary|        Victim_Age|\n",
      "+-------+------------------+\n",
      "|  count|            628199|\n",
      "|   mean| 32.59542756355868|\n",
      "| stddev|16.032934863712622|\n",
      "|    min|                 0|\n",
      "|    max|                98|\n",
      "+-------+------------------+\n",
      "\n"
     ]
    }
   ],
   "source": [
    "# Elimination of Age=998 or 99\n",
    "v_age= sqlCtx.sql(\"SELECT Victim_Age FROM homicide WHERE Victim_Age<99\")\n",
    "v_age.describe().show()"
   ]
  },
  {
   "cell_type": "code",
   "execution_count": 49,
   "metadata": {},
   "outputs": [
    {
     "name": "stdout",
     "output_type": "stream",
     "text": [
      "+-------+-----------------+\n",
      "|summary|  Perpetrator_Age|\n",
      "+-------+-----------------+\n",
      "|  count|           638454|\n",
      "|   mean|20.32269720715542|\n",
      "| stddev|17.88684181199937|\n",
      "|    min|                 |\n",
      "|    max|               99|\n",
      "+-------+-----------------+\n",
      "\n"
     ]
    }
   ],
   "source": [
    "p_age.describe().show()"
   ]
  },
  {
   "cell_type": "code",
   "execution_count": 50,
   "metadata": {},
   "outputs": [
    {
     "name": "stdout",
     "output_type": "stream",
     "text": [
      "+---------------+------------+-----+\n",
      "|Perpetrator_Age|Crime_Solved|count|\n",
      "+---------------+------------+-----+\n",
      "|               |          No|    1|\n",
      "+---------------+------------+-----+\n",
      "\n"
     ]
    }
   ],
   "source": [
    "p_out=sqlCtx.sql(\"SELECT Perpetrator_Age, Crime_Solved, count(*) as count FROM homicide WHERE Perpetrator_Age==' ' GROUP BY Perpetrator_Age, Crime_Solved ORDER BY Perpetrator_Age\")\n",
    "p_out.show()"
   ]
  },
  {
   "cell_type": "code",
   "execution_count": 51,
   "metadata": {},
   "outputs": [
    {
     "data": {
      "text/html": [
       "<div>\n",
       "<style scoped>\n",
       "    .dataframe tbody tr th:only-of-type {\n",
       "        vertical-align: middle;\n",
       "    }\n",
       "\n",
       "    .dataframe tbody tr th {\n",
       "        vertical-align: top;\n",
       "    }\n",
       "\n",
       "    .dataframe thead th {\n",
       "        text-align: right;\n",
       "    }\n",
       "</style>\n",
       "<table border=\"1\" class=\"dataframe\">\n",
       "  <thead>\n",
       "    <tr style=\"text-align: right;\">\n",
       "      <th></th>\n",
       "      <th>Agency_Code</th>\n",
       "      <th>Agency_Name</th>\n",
       "      <th>Agency_Type</th>\n",
       "      <th>City</th>\n",
       "      <th>State</th>\n",
       "      <th>Year</th>\n",
       "      <th>Month</th>\n",
       "      <th>Crime_Type</th>\n",
       "      <th>Crime_Solved</th>\n",
       "      <th>Victim_Sex</th>\n",
       "      <th>Victim_Age</th>\n",
       "      <th>Victim_Race</th>\n",
       "      <th>Victim_Ethnicity</th>\n",
       "      <th>Perpetrator_Sex</th>\n",
       "      <th>Perpetrator_Age</th>\n",
       "      <th>Perpetrator_Race</th>\n",
       "      <th>Perpetrator_Ethnicity</th>\n",
       "      <th>Relationship</th>\n",
       "      <th>Weapon</th>\n",
       "      <th>Record_Source</th>\n",
       "    </tr>\n",
       "  </thead>\n",
       "  <tbody>\n",
       "    <tr>\n",
       "      <th>0</th>\n",
       "      <td>OK07205</td>\n",
       "      <td>Tulsa</td>\n",
       "      <td>Municipal Police</td>\n",
       "      <td>Tulsa</td>\n",
       "      <td>Oklahoma</td>\n",
       "      <td>2014</td>\n",
       "      <td>June</td>\n",
       "      <td>Murder or Manslaughter</td>\n",
       "      <td>No</td>\n",
       "      <td>Male</td>\n",
       "      <td>46</td>\n",
       "      <td>Black</td>\n",
       "      <td>Not Hispanic</td>\n",
       "      <td>Unknown</td>\n",
       "      <td></td>\n",
       "      <td>Unknown</td>\n",
       "      <td>Unknown</td>\n",
       "      <td>Unknown</td>\n",
       "      <td>Handgun</td>\n",
       "      <td>FBI</td>\n",
       "    </tr>\n",
       "  </tbody>\n",
       "</table>\n",
       "</div>"
      ],
      "text/plain": [
       "  Agency_Code Agency_Name       Agency_Type   City     State  Year Month  \\\n",
       "0     OK07205       Tulsa  Municipal Police  Tulsa  Oklahoma  2014  June   \n",
       "\n",
       "               Crime_Type Crime_Solved Victim_Sex  Victim_Age Victim_Race  \\\n",
       "0  Murder or Manslaughter           No       Male          46       Black   \n",
       "\n",
       "  Victim_Ethnicity Perpetrator_Sex Perpetrator_Age Perpetrator_Race  \\\n",
       "0     Not Hispanic         Unknown                          Unknown   \n",
       "\n",
       "  Perpetrator_Ethnicity Relationship   Weapon Record_Source  \n",
       "0               Unknown      Unknown  Handgun           FBI  "
      ]
     },
     "execution_count": 51,
     "metadata": {},
     "output_type": "execute_result"
    }
   ],
   "source": [
    "# Missing value row\n",
    "pandas_df = df.select(\"*\").where(\"Perpetrator_Age==' ' \").toPandas()\n",
    "pandas_df"
   ]
  },
  {
   "cell_type": "code",
   "execution_count": 52,
   "metadata": {},
   "outputs": [
    {
     "name": "stdout",
     "output_type": "stream",
     "text": [
      "+-------+-----------------+\n",
      "|summary|  Perpetrator_Age|\n",
      "+-------+-----------------+\n",
      "|  count|           638453|\n",
      "|   mean|20.32269720715542|\n",
      "| stddev|17.88684181199942|\n",
      "|    min|                0|\n",
      "|    max|               99|\n",
      "+-------+-----------------+\n",
      "\n"
     ]
    }
   ],
   "source": [
    "p_age= sqlCtx.sql(\"SELECT Perpetrator_Age FROM homicide WHERE Perpetrator_Age<>' '\")\n",
    "p_age.describe().show()"
   ]
  },
  {
   "cell_type": "code",
   "execution_count": 53,
   "metadata": {},
   "outputs": [
    {
     "name": "stdout",
     "output_type": "stream",
     "text": [
      "+---------------+------------+------+\n",
      "|Perpetrator_Age|Crime_Solved| count|\n",
      "+---------------+------------+------+\n",
      "|              0|         Yes| 26700|\n",
      "|              0|          No|189627|\n",
      "|              1|         Yes|    16|\n",
      "|              1|          No|    18|\n",
      "|              2|         Yes|     6|\n",
      "|              3|         Yes|    24|\n",
      "|              4|         Yes|    29|\n",
      "|              5|          No|     2|\n",
      "|              5|         Yes|    31|\n",
      "|              6|         Yes|    50|\n",
      "|              7|         Yes|    48|\n",
      "|              8|         Yes|    62|\n",
      "|              9|         Yes|    86|\n",
      "+---------------+------------+------+\n",
      "\n"
     ]
    }
   ],
   "source": [
    "# Missing values\n",
    "p_out=sqlCtx.sql(\"SELECT Perpetrator_Age, Crime_Solved, count(*) as count FROM homicide WHERE Perpetrator_Age<10 GROUP BY Perpetrator_Age, Crime_Solved ORDER BY Perpetrator_Age\")\n",
    "p_out.show()"
   ]
  },
  {
   "cell_type": "code",
   "execution_count": 54,
   "metadata": {},
   "outputs": [
    {
     "name": "stdout",
     "output_type": "stream",
     "text": [
      "+-------+------------------+\n",
      "|summary|   Perpetrator_Age|\n",
      "+-------+------------------+\n",
      "|  count|            421609|\n",
      "|   mean|30.766259733544587|\n",
      "| stddev| 12.77846417945243|\n",
      "|    min|                11|\n",
      "|    max|                99|\n",
      "+-------+------------------+\n",
      "\n"
     ]
    }
   ],
   "source": [
    "p_age= sqlCtx.sql(\"SELECT Perpetrator_Age FROM homicide WHERE Perpetrator_Age>10\")\n",
    "p_age.describe().show()"
   ]
  },
  {
   "cell_type": "markdown",
   "metadata": {},
   "source": [
    "## Relationship"
   ]
  },
  {
   "cell_type": "code",
   "execution_count": 55,
   "metadata": {},
   "outputs": [],
   "source": [
    "rel= sqlCtx.sql(\"SELECT Relationship FROM homicide ORDER BY Relationship\")"
   ]
  },
  {
   "cell_type": "code",
   "execution_count": 56,
   "metadata": {},
   "outputs": [
    {
     "name": "stdout",
     "output_type": "stream",
     "text": [
      "+--------------------+\n",
      "|        Relationship|\n",
      "+--------------------+\n",
      "|        Acquaintance|\n",
      "|           Boyfriend|\n",
      "|Boyfriend/Girlfriend|\n",
      "|             Brother|\n",
      "|  Common-Law Husband|\n",
      "|     Common-Law Wife|\n",
      "|            Daughter|\n",
      "|            Employee|\n",
      "|            Employer|\n",
      "|          Ex-Husband|\n",
      "|             Ex-Wife|\n",
      "|              Family|\n",
      "|              Father|\n",
      "|              Friend|\n",
      "|          Girlfriend|\n",
      "|             Husband|\n",
      "|              In-Law|\n",
      "|              Mother|\n",
      "|            Neighbor|\n",
      "|              Sister|\n",
      "+--------------------+\n",
      "only showing top 20 rows\n",
      "\n"
     ]
    }
   ],
   "source": [
    "# Syntactic errors\n",
    "rel.distinct().show()"
   ]
  },
  {
   "cell_type": "code",
   "execution_count": 57,
   "metadata": {},
   "outputs": [
    {
     "name": "stdout",
     "output_type": "stream",
     "text": [
      "+--------------------+------+\n",
      "|        Relationship| count|\n",
      "+--------------------+------+\n",
      "|             Unknown|273013|\n",
      "|        Acquaintance|126018|\n",
      "|            Stranger| 96593|\n",
      "|                Wife| 23187|\n",
      "|              Friend| 21945|\n",
      "|          Girlfriend| 16465|\n",
      "|                 Son|  9904|\n",
      "|              Family|  9535|\n",
      "|             Husband|  8803|\n",
      "|            Daughter|  7539|\n",
      "|           Boyfriend|  7302|\n",
      "|            Neighbor|  6294|\n",
      "|             Brother|  5514|\n",
      "|              Father|  4361|\n",
      "|              Mother|  4248|\n",
      "|              In-Law|  3637|\n",
      "|     Common-Law Wife|  2477|\n",
      "|             Ex-Wife|  1973|\n",
      "|  Common-Law Husband|  1954|\n",
      "|Boyfriend/Girlfriend|  1383|\n",
      "|          Stepfather|  1360|\n",
      "|              Sister|  1292|\n",
      "|             Stepson|  1170|\n",
      "|        Stepdaughter|   754|\n",
      "|          Ex-Husband|   629|\n",
      "|            Employer|   509|\n",
      "|            Employee|   384|\n",
      "|          Stepmother|   211|\n",
      "+--------------------+------+\n",
      "\n"
     ]
    }
   ],
   "source": [
    "# Count\n",
    "rel=sqlCtx.sql(\"SELECT Relationship, count(*) as count FROM homicide GROUP BY Relationship ORDER BY count(*) DESC\")\n",
    "rel.show(28)"
   ]
  },
  {
   "cell_type": "code",
   "execution_count": 58,
   "metadata": {},
   "outputs": [
    {
     "name": "stdout",
     "output_type": "stream",
     "text": [
      "+--------------------+------------+------+\n",
      "|        Relationship|Crime_Solved| count|\n",
      "+--------------------+------------+------+\n",
      "|                Wife|         Yes| 23142|\n",
      "|                Wife|          No|    45|\n",
      "|             Unknown|         Yes| 94892|\n",
      "|             Unknown|          No|178121|\n",
      "|            Stranger|          No|  9231|\n",
      "|            Stranger|         Yes| 87362|\n",
      "|             Stepson|         Yes|  1169|\n",
      "|             Stepson|          No|     1|\n",
      "|          Stepmother|         Yes|   211|\n",
      "|          Stepfather|         Yes|  1358|\n",
      "|          Stepfather|          No|     2|\n",
      "|        Stepdaughter|         Yes|   754|\n",
      "|                 Son|          No|    62|\n",
      "|                 Son|         Yes|  9842|\n",
      "|              Sister|         Yes|  1288|\n",
      "|              Sister|          No|     4|\n",
      "|            Neighbor|         Yes|  6258|\n",
      "|            Neighbor|          No|    36|\n",
      "|              Mother|          No|    10|\n",
      "|              Mother|         Yes|  4238|\n",
      "|              In-Law|          No|     9|\n",
      "|              In-Law|         Yes|  3628|\n",
      "|             Husband|          No|    26|\n",
      "|             Husband|         Yes|  8777|\n",
      "|          Girlfriend|          No|    52|\n",
      "|          Girlfriend|         Yes| 16413|\n",
      "|              Friend|          No|   227|\n",
      "|              Friend|         Yes| 21718|\n",
      "|              Father|         Yes|  4353|\n",
      "|              Father|          No|     8|\n",
      "|              Family|          No|    68|\n",
      "|              Family|         Yes|  9467|\n",
      "|             Ex-Wife|         Yes|  1966|\n",
      "|             Ex-Wife|          No|     7|\n",
      "|          Ex-Husband|         Yes|   626|\n",
      "|          Ex-Husband|          No|     3|\n",
      "|            Employer|         Yes|   509|\n",
      "|            Employee|          No|     4|\n",
      "|            Employee|         Yes|   380|\n",
      "|            Daughter|          No|    52|\n",
      "|            Daughter|         Yes|  7487|\n",
      "|     Common-Law Wife|          No|     7|\n",
      "|     Common-Law Wife|         Yes|  2470|\n",
      "|  Common-Law Husband|          No|     7|\n",
      "|  Common-Law Husband|         Yes|  1947|\n",
      "|             Brother|          No|    18|\n",
      "|             Brother|         Yes|  5496|\n",
      "|Boyfriend/Girlfriend|         Yes|  1281|\n",
      "|Boyfriend/Girlfriend|          No|   102|\n",
      "|           Boyfriend|          No|    14|\n",
      "|           Boyfriend|         Yes|  7288|\n",
      "|        Acquaintance|         Yes|123852|\n",
      "|        Acquaintance|          No|  2166|\n",
      "+--------------------+------------+------+\n",
      "\n"
     ]
    }
   ],
   "source": [
    "# Missing: Relationship Unknown and Crime Solved=Yes\n",
    "rel=sqlCtx.sql(\"SELECT Relationship, Crime_Solved, count(*) as count FROM homicide GROUP BY Relationship, Crime_Solved ORDER BY Relationship DESC\")\n",
    "rel.show(55)"
   ]
  },
  {
   "cell_type": "code",
   "execution_count": 59,
   "metadata": {
    "scrolled": true
   },
   "outputs": [
    {
     "name": "stdout",
     "output_type": "stream",
     "text": [
      "+--------------------+----------+---------------+--------+\n",
      "|        Relationship|Victim_Sex|Perpetrator_Sex|count(1)|\n",
      "+--------------------+----------+---------------+--------+\n",
      "|        Acquaintance|   Unknown|         Female|       4|\n",
      "|        Acquaintance|      Male|        Unknown|    1893|\n",
      "|        Acquaintance|    Female|         Female|    2505|\n",
      "|        Acquaintance|    Female|        Unknown|     268|\n",
      "|        Acquaintance|      Male|         Female|    6217|\n",
      "|        Acquaintance|   Unknown|           Male|      25|\n",
      "|        Acquaintance|   Unknown|        Unknown|       5|\n",
      "|        Acquaintance|    Female|           Male|   16121|\n",
      "|        Acquaintance|      Male|           Male|   98980|\n",
      "|           Boyfriend|    Female|        Unknown|       2|\n",
      "|           Boyfriend|    Female|           Male|      60|\n",
      "|           Boyfriend|    Female|         Female|       9|\n",
      "|           Boyfriend|      Male|        Unknown|      12|\n",
      "|           Boyfriend|      Male|           Male|     185|\n",
      "|           Boyfriend|      Male|         Female|    7034|\n",
      "|Boyfriend/Girlfriend|      Male|         Female|       2|\n",
      "|Boyfriend/Girlfriend|    Female|           Male|       4|\n",
      "|Boyfriend/Girlfriend|    Female|         Female|     193|\n",
      "|Boyfriend/Girlfriend|      Male|           Male|    1081|\n",
      "|Boyfriend/Girlfriend|      Male|        Unknown|     102|\n",
      "|Boyfriend/Girlfriend|   Unknown|         Female|       1|\n",
      "|             Brother|      Male|        Unknown|      18|\n",
      "|             Brother|      Male|           Male|    4891|\n",
      "|             Brother|    Female|         Female|       6|\n",
      "|             Brother|      Male|         Female|     474|\n",
      "|             Brother|    Female|           Male|     125|\n",
      "|  Common-Law Husband|    Female|         Female|       1|\n",
      "|  Common-Law Husband|      Male|           Male|      44|\n",
      "|  Common-Law Husband|    Female|           Male|      12|\n",
      "|  Common-Law Husband|      Male|         Female|    1890|\n",
      "+--------------------+----------+---------------+--------+\n",
      "only showing top 30 rows\n",
      "\n"
     ]
    }
   ],
   "source": [
    "rel= sqlCtx.sql(\"SELECT Relationship, Victim_Sex, Perpetrator_Sex, COUNT(*) FROM homicide GROUP BY Relationship, Victim_Sex, Perpetrator_Sex ORDER BY Relationship\")\n",
    "rel.show(30)"
   ]
  },
  {
   "cell_type": "code",
   "execution_count": 60,
   "metadata": {},
   "outputs": [
    {
     "name": "stdout",
     "output_type": "stream",
     "text": [
      "+--------------------+---------------+------+--------------------+\n",
      "|        Relationship|Perpetrator_Sex| Count|           PercCount|\n",
      "+--------------------+---------------+------+--------------------+\n",
      "|        Acquaintance|           Male|115126|  0.9295449407357168|\n",
      "|        Acquaintance|         Female|  8726| 0.07045505926428318|\n",
      "|           Boyfriend|           Male|   245| 0.03361690450054885|\n",
      "|           Boyfriend|         Female|  7043|  0.9663830954994511|\n",
      "|Boyfriend/Girlfriend|           Male|  1085|  0.8469945355191257|\n",
      "|Boyfriend/Girlfriend|         Female|   196| 0.15300546448087432|\n",
      "|             Brother|           Male|  5016|  0.9126637554585153|\n",
      "|             Brother|         Female|   480| 0.08733624454148471|\n",
      "|  Common-Law Husband|         Female|  1891|  0.9712378017462763|\n",
      "|  Common-Law Husband|           Male|    56|0.028762198253723677|\n",
      "|     Common-Law Wife|           Male|  2451|  0.9923076923076923|\n",
      "|     Common-Law Wife|         Female|    19|0.007692307692307693|\n",
      "|            Daughter|           Male|  3884|  0.5187658608254307|\n",
      "|            Daughter|         Female|  3603| 0.48123413917456925|\n",
      "|            Employee|           Male|   347|  0.9131578947368421|\n",
      "|            Employee|         Female|    33|  0.0868421052631579|\n",
      "|            Employer|           Male|   476|  0.9351669941060904|\n",
      "|            Employer|         Female|    33| 0.06483300589390963|\n",
      "|          Ex-Husband|         Female|   589|  0.9408945686900958|\n",
      "|          Ex-Husband|           Male|    37| 0.05910543130990415|\n",
      "+--------------------+---------------+------+--------------------+\n",
      "only showing top 20 rows\n",
      "\n"
     ]
    }
   ],
   "source": [
    "view_targ= sqlCtx.sql(\"SELECT Relationship, count(*) as Tot FROM homicide WHERE Perpetrator_Sex!='Unknown' GROUP BY Relationship\")\n",
    "view_targ.createOrReplaceTempView(\"view_targ\")\n",
    "target = sqlCtx.sql(\"SELECT h.Relationship, Perpetrator_Sex, count(*) as Count, count(*)/v.Tot as PercCount FROM homicide as h, view_targ as v WHERE v.Relationship=h.Relationship AND Perpetrator_Sex!='Unknown' GROUP BY h.Relationship, Perpetrator_Sex, v.Tot ORDER BY h.Relationship\")\n",
    "target.show()"
   ]
  },
  {
   "cell_type": "markdown",
   "metadata": {},
   "source": [
    "## Weapon"
   ]
  },
  {
   "cell_type": "code",
   "execution_count": 61,
   "metadata": {},
   "outputs": [],
   "source": [
    "weap= sqlCtx.sql(\"SELECT Weapon FROM homicide ORDER BY Weapon\")"
   ]
  },
  {
   "cell_type": "code",
   "execution_count": 62,
   "metadata": {},
   "outputs": [
    {
     "name": "stdout",
     "output_type": "stream",
     "text": [
      "+-------------+\n",
      "|       Weapon|\n",
      "+-------------+\n",
      "| Blunt Object|\n",
      "|     Drowning|\n",
      "|        Drugs|\n",
      "|   Explosives|\n",
      "|         Fall|\n",
      "|         Fire|\n",
      "|      Firearm|\n",
      "|          Gun|\n",
      "|      Handgun|\n",
      "|        Knife|\n",
      "|       Poison|\n",
      "|        Rifle|\n",
      "|      Shotgun|\n",
      "|Strangulation|\n",
      "|  Suffocation|\n",
      "|      Unknown|\n",
      "+-------------+\n",
      "\n"
     ]
    }
   ],
   "source": [
    "weap.distinct().show()"
   ]
  },
  {
   "cell_type": "code",
   "execution_count": 63,
   "metadata": {},
   "outputs": [
    {
     "name": "stdout",
     "output_type": "stream",
     "text": [
      "+------------+------------+------+-------------------+\n",
      "|      Weapon|Crime_Solved| Count|          PercCount|\n",
      "+------------+------------+------+-------------------+\n",
      "|Blunt Object|         Yes| 51504| 0.7648692397938726|\n",
      "|Blunt Object|          No| 15833| 0.2351307602061274|\n",
      "|    Drowning|          No|   205|0.17026578073089702|\n",
      "|    Drowning|         Yes|   999|  0.829734219269103|\n",
      "|       Drugs|         Yes|  1396| 0.8790931989924433|\n",
      "|       Drugs|          No|   192|0.12090680100755667|\n",
      "|  Explosives|          No|   149| 0.2774674115456238|\n",
      "|  Explosives|         Yes|   388| 0.7225325884543762|\n",
      "|        Fall|          No|    24|0.12631578947368421|\n",
      "|        Fall|         Yes|   166| 0.8736842105263158|\n",
      "|        Fire|          No|  2034| 0.3294994330147416|\n",
      "|        Fire|         Yes|  4139| 0.6705005669852584|\n",
      "|     Firearm|          No| 22578| 0.4805874840357599|\n",
      "|     Firearm|         Yes| 24402| 0.5194125159642401|\n",
      "|         Gun|         Yes|  1324|  0.600181323662738|\n",
      "|         Gun|          No|   882|0.39981867633726204|\n",
      "|     Handgun|         Yes|216938| 0.6833037255420745|\n",
      "|     Handgun|          No|100546| 0.3166962744579254|\n",
      "|       Knife|         Yes| 74758| 0.7872412122743835|\n",
      "|       Knife|          No| 20204|0.21275878772561657|\n",
      "+------------+------------+------+-------------------+\n",
      "only showing top 20 rows\n",
      "\n"
     ]
    }
   ],
   "source": [
    "view_targ= sqlCtx.sql(\"SELECT Weapon, count(*) as Tot FROM homicide GROUP BY Weapon\")\n",
    "view_targ.createOrReplaceTempView(\"view_targ\")\n",
    "target = sqlCtx.sql(\"SELECT h.Weapon, Crime_Solved, count(*) as Count, count(*)/v.Tot as PercCount FROM homicide as h, view_targ as v WHERE v.Weapon=h.Weapon GROUP BY h.Weapon, Crime_Solved, v.Tot ORDER BY h.Weapon\")\n",
    "target.show()"
   ]
  },
  {
   "cell_type": "markdown",
   "metadata": {},
   "source": [
    "## Record Source"
   ]
  },
  {
   "cell_type": "code",
   "execution_count": 64,
   "metadata": {},
   "outputs": [
    {
     "name": "stdout",
     "output_type": "stream",
     "text": [
      "+-------------+\n",
      "|Record_Source|\n",
      "+-------------+\n",
      "|          FBI|\n",
      "|         FOIA|\n",
      "+-------------+\n",
      "\n"
     ]
    }
   ],
   "source": [
    "rec= sqlCtx.sql(\"SELECT Record_Source FROM homicide ORDER BY Record_Source\")\n",
    "rec.distinct().show()"
   ]
  },
  {
   "cell_type": "code",
   "execution_count": 65,
   "metadata": {},
   "outputs": [
    {
     "name": "stdout",
     "output_type": "stream",
     "text": [
      "+-------------+------+\n",
      "|Record_Source| count|\n",
      "+-------------+------+\n",
      "|          FBI|616647|\n",
      "|         FOIA| 21807|\n",
      "+-------------+------+\n",
      "\n"
     ]
    }
   ],
   "source": [
    "rec=sqlCtx.sql(\"SELECT Record_Source, count(*) as count FROM homicide GROUP BY Record_Source ORDER BY count(*) DESC\")\n",
    "rec.show()"
   ]
  },
  {
   "cell_type": "markdown",
   "metadata": {},
   "source": [
    "## Missing Values"
   ]
  },
  {
   "cell_type": "code",
   "execution_count": 66,
   "metadata": {},
   "outputs": [
    {
     "name": "stdout",
     "output_type": "stream",
     "text": [
      "+-----------+------------+\n",
      "|Agency_Code|CountMissing|\n",
      "+-----------+------------+\n",
      "+-----------+------------+\n",
      "\n",
      "+-----------+------------+\n",
      "|Agency_Name|CountMissing|\n",
      "+-----------+------------+\n",
      "+-----------+------------+\n",
      "\n",
      "+-----------+------------+\n",
      "|Agency_Type|CountMissing|\n",
      "+-----------+------------+\n",
      "+-----------+------------+\n",
      "\n",
      "+----+------------+\n",
      "|City|CountMissing|\n",
      "+----+------------+\n",
      "+----+------------+\n",
      "\n",
      "+-----+------------+\n",
      "|State|CountMissing|\n",
      "+-----+------------+\n",
      "+-----+------------+\n",
      "\n",
      "+----+------------+\n",
      "|Year|CountMissing|\n",
      "+----+------------+\n",
      "+----+------------+\n",
      "\n",
      "+-----+------------+\n",
      "|Month|CountMissing|\n",
      "+-----+------------+\n",
      "+-----+------------+\n",
      "\n",
      "+----------+------------+\n",
      "|Crime_Type|CountMissing|\n",
      "+----------+------------+\n",
      "+----------+------------+\n",
      "\n",
      "+------------+------------+\n",
      "|Crime_Solved|CountMissing|\n",
      "+------------+------------+\n",
      "+------------+------------+\n",
      "\n",
      "+----------+------------+\n",
      "|Victim_Sex|CountMissing|\n",
      "+----------+------------+\n",
      "+----------+------------+\n",
      "\n",
      "+----------+------------+\n",
      "|Victim_Age|CountMissing|\n",
      "+----------+------------+\n",
      "+----------+------------+\n",
      "\n",
      "+-----------+------------+\n",
      "|Victim_Race|CountMissing|\n",
      "+-----------+------------+\n",
      "+-----------+------------+\n",
      "\n",
      "+----------------+------------+\n",
      "|Victim_Ethnicity|CountMissing|\n",
      "+----------------+------------+\n",
      "+----------------+------------+\n",
      "\n",
      "+---------------+------------+\n",
      "|Perpetrator_Sex|CountMissing|\n",
      "+---------------+------------+\n",
      "+---------------+------------+\n",
      "\n",
      "+---------------+------------+\n",
      "|Perpetrator_Age|CountMissing|\n",
      "+---------------+------------+\n",
      "+---------------+------------+\n",
      "\n",
      "+----------------+------------+\n",
      "|Perpetrator_Race|CountMissing|\n",
      "+----------------+------------+\n",
      "+----------------+------------+\n",
      "\n",
      "+---------------------+------------+\n",
      "|Perpetrator_Ethnicity|CountMissing|\n",
      "+---------------------+------------+\n",
      "+---------------------+------------+\n",
      "\n",
      "+------------+------------+\n",
      "|Relationship|CountMissing|\n",
      "+------------+------------+\n",
      "+------------+------------+\n",
      "\n",
      "+------+------------+\n",
      "|Weapon|CountMissing|\n",
      "+------+------------+\n",
      "+------+------------+\n",
      "\n",
      "+-------------+------------+\n",
      "|Record_Source|CountMissing|\n",
      "+-------------+------------+\n",
      "+-------------+------------+\n",
      "\n"
     ]
    }
   ],
   "source": [
    "for col in df.columns:\n",
    "    mv_q= sqlCtx.sql(\"SELECT \"+col+\", count(*) as CountMissing FROM homicide WHERE \"+col+\" IS NULL GROUP BY \"+ col)\n",
    "    mv_q.show()"
   ]
  },
  {
   "cell_type": "code",
   "execution_count": 67,
   "metadata": {},
   "outputs": [
    {
     "name": "stdout",
     "output_type": "stream",
     "text": [
      "+-----------+------------+-----+\n",
      "|Agency_Code|Crime_Solved|count|\n",
      "+-----------+------------+-----+\n",
      "+-----------+------------+-----+\n",
      "\n",
      "+-----------+------------+-----+\n",
      "|Agency_Name|Crime_Solved|count|\n",
      "+-----------+------------+-----+\n",
      "|    Unknown|         Yes|   33|\n",
      "|    Unknown|          No|   14|\n",
      "+-----------+------------+-----+\n",
      "\n",
      "+-----------+------------+-----+\n",
      "|Agency_Type|Crime_Solved|count|\n",
      "+-----------+------------+-----+\n",
      "+-----------+------------+-----+\n",
      "\n",
      "+----+------------+-----+\n",
      "|City|Crime_Solved|count|\n",
      "+----+------------+-----+\n",
      "+----+------------+-----+\n",
      "\n",
      "+-----+------------+-----+\n",
      "|State|Crime_Solved|count|\n",
      "+-----+------------+-----+\n",
      "+-----+------------+-----+\n",
      "\n",
      "+----+------------+-----+\n",
      "|Year|Crime_Solved|count|\n",
      "+----+------------+-----+\n",
      "+----+------------+-----+\n",
      "\n",
      "+-----+------------+-----+\n",
      "|Month|Crime_Solved|count|\n",
      "+-----+------------+-----+\n",
      "+-----+------------+-----+\n",
      "\n",
      "+----------+------------+-----+\n",
      "|Crime_Type|Crime_Solved|count|\n",
      "+----------+------------+-----+\n",
      "+----------+------------+-----+\n",
      "\n",
      "+------------+------------+-----+\n",
      "|Crime_Solved|Crime_Solved|count|\n",
      "+------------+------------+-----+\n",
      "+------------+------------+-----+\n",
      "\n",
      "+----------+------------+-----+\n",
      "|Victim_Sex|Crime_Solved|count|\n",
      "+----------+------------+-----+\n",
      "|   Unknown|         Yes|  331|\n",
      "|   Unknown|          No|  653|\n",
      "+----------+------------+-----+\n",
      "\n",
      "+----------+------------+-----+\n",
      "|Victim_Age|Crime_Solved|count|\n",
      "+----------+------------+-----+\n",
      "+----------+------------+-----+\n",
      "\n",
      "+-----------+------------+-----+\n",
      "|Victim_Race|Crime_Solved|count|\n",
      "+-----------+------------+-----+\n",
      "|    Unknown|         Yes| 3592|\n",
      "|    Unknown|          No| 3084|\n",
      "+-----------+------------+-----+\n",
      "\n",
      "+----------------+------------+------+\n",
      "|Victim_Ethnicity|Crime_Solved| count|\n",
      "+----------------+------------+------+\n",
      "|         Unknown|         Yes|255032|\n",
      "|         Unknown|          No|113271|\n",
      "+----------------+------------+------+\n",
      "\n",
      "+---------------+------------+------+\n",
      "|Perpetrator_Sex|Crime_Solved| count|\n",
      "+---------------+------------+------+\n",
      "|        Unknown|          No|190218|\n",
      "|        Unknown|         Yes|   147|\n",
      "+---------------+------------+------+\n",
      "\n",
      "+---------------+------------+-----+\n",
      "|Perpetrator_Age|Crime_Solved|count|\n",
      "+---------------+------------+-----+\n",
      "+---------------+------------+-----+\n",
      "\n",
      "+----------------+------------+------+\n",
      "|Perpetrator_Race|Crime_Solved| count|\n",
      "+----------------+------------+------+\n",
      "|         Unknown|         Yes|  6049|\n",
      "|         Unknown|          No|189998|\n",
      "+----------------+------------+------+\n",
      "\n",
      "+---------------------+------------+------+\n",
      "|Perpetrator_Ethnicity|Crime_Solved| count|\n",
      "+---------------------+------------+------+\n",
      "|              Unknown|         Yes|256374|\n",
      "|              Unknown|          No|190036|\n",
      "+---------------------+------------+------+\n",
      "\n",
      "+------------+------------+------+\n",
      "|Relationship|Crime_Solved| count|\n",
      "+------------+------------+------+\n",
      "|     Unknown|          No|178121|\n",
      "|     Unknown|         Yes| 94892|\n",
      "+------------+------------+------+\n",
      "\n",
      "+-------+------------+-----+\n",
      "| Weapon|Crime_Solved|count|\n",
      "+-------+------------+-----+\n",
      "|Unknown|         Yes|18409|\n",
      "|Unknown|          No|14783|\n",
      "+-------+------------+-----+\n",
      "\n",
      "+-------------+------------+-----+\n",
      "|Record_Source|Crime_Solved|count|\n",
      "+-------------+------------+-----+\n",
      "+-------------+------------+-----+\n",
      "\n"
     ]
    }
   ],
   "source": [
    "# Unknown values\n",
    "for col in df.columns:\n",
    "    # Missing: Unknown of solved crime\n",
    "    mv=sqlCtx.sql(\"SELECT \"+col+\", Crime_Solved, count(*) as count FROM homicide WHERE \"+col+\"=='Unknown' GROUP BY \"+col+\", Crime_Solved ORDER BY \"+col)\n",
    "    mv.show()   \n"
   ]
  }
 ],
 "metadata": {
  "kernelspec": {
   "display_name": "Python 3",
   "language": "python",
   "name": "python3"
  },
  "language_info": {
   "codemirror_mode": {
    "name": "ipython",
    "version": 3
   },
   "file_extension": ".py",
   "mimetype": "text/x-python",
   "name": "python",
   "nbconvert_exporter": "python",
   "pygments_lexer": "ipython3",
   "version": "3.7.7"
  }
 },
 "nbformat": 4,
 "nbformat_minor": 4
}
